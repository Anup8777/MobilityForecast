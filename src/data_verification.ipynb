{
 "cells": [
  {
   "cell_type": "code",
   "execution_count": 3,
   "metadata": {},
   "outputs": [],
   "source": [
    "from IPython import display\n",
    "\n",
    "import glob\n",
    "import imageio\n",
    "import matplotlib.pyplot as plt\n",
    "import numpy as np\n",
    "import numpy.polynomial.polynomial as poly\n",
    "# import PIL\n",
    "# import tensorflow as tf\n",
    "# import tensorflow_probability as tfp\n",
    "# import tensorflow.contrib as tf_contrib\n",
    "import time\n",
    "\n",
    "import seaborn as sns\n",
    "from data_utils import *\n"
   ]
  },
  {
   "cell_type": "code",
   "execution_count": 4,
   "metadata": {},
   "outputs": [
    {
     "name": "stdout",
     "output_type": "stream",
     "text": [
      "*********** 1 ***********\n",
      "\n",
      " Taxi 2021 1 True 4\n",
      "orig (1369769, 19)\n",
      "reset index (1369769, 19)\n",
      "sort (1369769, 23)\n",
      "year, month (1369745, 4)\n",
      "zone to coord (1369745, 8)\n",
      "to numeric (1369745, 12)\n",
      "bin (1369745, 14)\n",
      "to_numeric (1369745, 14)\n",
      "dropna (1342518, 14)\n",
      "df1 (35159, 5)\n",
      "st_map (16, 16, 24, 31)\n",
      "\n",
      " CitiBike 2021 1 True 4\n",
      "orig (1095346, 15)\n",
      "reset index (1095346, 15)\n",
      "first col tripduration\n",
      "sort (1095346, 19)\n",
      "year, month (1095346, 6)\n",
      "to numeric (1095346, 10)\n",
      "bin (1095346, 12)\n",
      "to_numeric (1095346, 12)\n",
      "dropna (1095346, 12)\n",
      "df1 (56435, 5)\n",
      "st_map (16, 16, 24, 31)\n",
      "*********** 2 ***********\n"
     ]
    },
    {
     "name": "stderr",
     "output_type": "stream",
     "text": [
      "/Users/probook/Documents/GitHub/mobilityforecast/src/data_utils.py:40: DtypeWarning: Columns (5,7) have mixed types. Specify dtype option on import or set low_memory=False.\n",
      "  df = pd.read_csv(os.path.join(data_dir, data_file))\n"
     ]
    },
    {
     "name": "stdout",
     "output_type": "stream",
     "text": [
      "\n",
      " Taxi 2021 2 True 4\n",
      "orig (1371709, 19)\n",
      "reset index (1371709, 19)\n",
      "sort (1371709, 23)\n",
      "year, month (1371678, 4)\n",
      "zone to coord (1371678, 8)\n",
      "to numeric (1371678, 12)\n",
      "bin (1371678, 14)\n",
      "to_numeric (1371678, 14)\n",
      "dropna (1341709, 14)\n",
      "df1 (31830, 5)\n",
      "st_map (16, 16, 24, 28)\n",
      "\n",
      " CitiBike 2021 2 True 4\n",
      "orig (649983, 13)\n",
      "reset index (649983, 13)\n",
      "first col ride_id\n",
      "sort (649983, 17)\n",
      "year, month (649983, 6)\n",
      "to numeric (649983, 10)\n",
      "bin (649983, 12)\n",
      "to_numeric (649983, 12)\n",
      "dropna (648651, 12)\n",
      "df1 (41069, 5)\n",
      "st_map (16, 16, 24, 28)\n",
      "*********** 3 ***********\n"
     ]
    },
    {
     "name": "stderr",
     "output_type": "stream",
     "text": [
      "/Users/probook/Documents/GitHub/mobilityforecast/src/data_utils.py:40: DtypeWarning: Columns (5,7) have mixed types. Specify dtype option on import or set low_memory=False.\n",
      "  df = pd.read_csv(os.path.join(data_dir, data_file))\n"
     ]
    },
    {
     "name": "stdout",
     "output_type": "stream",
     "text": [
      "\n",
      " Taxi 2021 3 True 4\n",
      "orig (1925152, 19)\n",
      "reset index (1925152, 19)\n",
      "sort (1925152, 23)\n",
      "year, month (1925119, 4)\n",
      "zone to coord (1925119, 8)\n",
      "to numeric (1925119, 12)\n",
      "bin (1925119, 14)\n",
      "to_numeric (1925119, 14)\n",
      "dropna (1888160, 14)\n",
      "df1 (38175, 5)\n",
      "st_map (16, 16, 24, 31)\n",
      "\n",
      " CitiBike 2021 3 True 4\n",
      "orig (1531094, 13)\n",
      "reset index (1531094, 13)\n",
      "first col ride_id\n",
      "sort (1531094, 17)\n",
      "year, month (1531094, 6)\n",
      "to numeric (1531094, 10)\n",
      "bin (1531094, 12)\n",
      "to_numeric (1531094, 12)\n",
      "dropna (1527893, 12)\n",
      "df1 (52144, 5)\n",
      "st_map (16, 16, 24, 31)\n",
      "*********** 4 ***********\n"
     ]
    },
    {
     "name": "stderr",
     "output_type": "stream",
     "text": [
      "/Users/probook/Documents/GitHub/mobilityforecast/src/data_utils.py:40: DtypeWarning: Columns (5,7) have mixed types. Specify dtype option on import or set low_memory=False.\n",
      "  df = pd.read_csv(os.path.join(data_dir, data_file))\n"
     ]
    },
    {
     "name": "stdout",
     "output_type": "stream",
     "text": [
      "\n",
      " Taxi 2021 4 True 4\n",
      "orig (2171187, 19)\n",
      "reset index (2171187, 19)\n",
      "sort (2171187, 23)\n",
      "year, month (2171145, 4)\n",
      "zone to coord (2171145, 8)\n",
      "to numeric (2171145, 12)\n",
      "bin (2171145, 14)\n",
      "to_numeric (2171145, 14)\n",
      "dropna (2132774, 14)\n",
      "df1 (38897, 5)\n",
      "st_map (16, 16, 24, 30)\n",
      "\n",
      " CitiBike 2021 4 True 4\n",
      "orig (2067669, 13)\n",
      "reset index (2067669, 13)\n",
      "first col ride_id\n",
      "sort (2067669, 17)\n",
      "year, month (2067669, 6)\n",
      "to numeric (2067669, 10)\n",
      "bin (2067669, 12)\n",
      "to_numeric (2067669, 12)\n",
      "dropna (2064354, 12)\n",
      "df1 (57408, 5)\n",
      "st_map (16, 16, 24, 30)\n",
      "\n",
      " Weather 2021 1 True 4\n",
      "orig (8737, 10)\n",
      "reset index (8737, 10)\n",
      "sort (8737, 15)\n",
      "year, month (744, 7)\n",
      "dropna (744, 7)\n",
      "st_map (1, 5, 24, 31)\n"
     ]
    }
   ],
   "source": [
    "num_bins = 4\n",
    "st_taxi = np.zeros((num_bins, num_bins, 1))\n",
    "st_bike = np.zeros((num_bins, num_bins, 1))\n",
    "for month in range(4):\n",
    "    print('***********',month+1,'***********')\n",
    "    df_taxi = load_data('/Users/probook/Documents/GitHub/mobilityforecast/data/','yellow_tripdata_2021-0'+str(month+1)+'.parquet','parquet')\n",
    "    df_bike = load_data('/Users/probook/Documents/GitHub/mobilityforecast/data/','2021'+str(month+1)+'-citibike-tripdata.csv','csv')\n",
    "    st_taxi = data_preprocessing(df_taxi, 'Taxi', 2021, (month+1), True, num_bins)\n",
    "    st_bike = data_preprocessing(df_bike, 'CitiBike', 2021, (month+1), True, num_bins)\n",
    "    st_taxi = np.stack(arrays=[st_taxi, st_taxi])\n",
    "    st_bike = np.stack(arrays=[st_bike, st_bike])\n",
    "df_weather = load_data('/Users/probook/Documents/GitHub/mobilityforecast/data/','manhattan.csv','csv')\n",
    "st_weather = data_preprocessing(df_weather, 'Weather', 2021, 1, True, num_bins)\n"
   ]
  },
  {
   "cell_type": "code",
   "execution_count": 5,
   "metadata": {},
   "outputs": [
    {
     "name": "stdout",
     "output_type": "stream",
     "text": [
      "\n",
      " Weather 2021 1 True 4\n",
      "orig (8737, 10)\n",
      "reset index (8737, 10)\n",
      "sort (8737, 15)\n",
      "year, month (744, 7)\n",
      "dropna (744, 7)\n",
      "st_map (1, 5, 24, 31)\n"
     ]
    }
   ],
   "source": [
    "df_weather = load_data('/Users/probook/Documents/GitHub/mobilityforecast/data/','manhattan.csv','csv')\n",
    "st_weather = data_preprocessing(df_weather, 'Weather', 2021, 1, True, num_bins)"
   ]
  },
  {
   "cell_type": "code",
   "execution_count": 21,
   "metadata": {},
   "outputs": [
    {
     "data": {
      "text/plain": [
       "(1, 5, 744)"
      ]
     },
     "execution_count": 21,
     "metadata": {},
     "output_type": "execute_result"
    }
   ],
   "source": [
    "st_weather.shape"
   ]
  },
  {
   "cell_type": "code",
   "execution_count": null,
   "metadata": {},
   "outputs": [],
   "source": []
  }
 ],
 "metadata": {
  "kernelspec": {
   "display_name": "Python 3.8.13 ('mobility')",
   "language": "python",
   "name": "python3"
  },
  "language_info": {
   "codemirror_mode": {
    "name": "ipython",
    "version": 3
   },
   "file_extension": ".py",
   "mimetype": "text/x-python",
   "name": "python",
   "nbconvert_exporter": "python",
   "pygments_lexer": "ipython3",
   "version": "3.8.13"
  },
  "orig_nbformat": 4,
  "vscode": {
   "interpreter": {
    "hash": "a13a998b53916b4eada4543eea7e41336b9b0d9c7b61df3419d4765325c9e9f7"
   }
  }
 },
 "nbformat": 4,
 "nbformat_minor": 2
}
