{
 "cells": [
  {
   "cell_type": "code",
   "execution_count": null,
   "metadata": {},
   "outputs": [],
   "source": [
    "import pandas as pd\n",
    "import numpy as np\n",
    "import matplotlib as mpl\n",
    "import matplotlib.pyplot as plt\n",
    "import seaborn as sns\n",
    "import os\n",
    "import datetime\n",
    "import math\n",
    "\n",
    "import shapefile\n",
    "from shapely.geometry import Polygon\n",
    "from descartes.patch import PolygonPatch\n",
    "from data_utils import filter_outliers\n",
    "\n",
    "os.chdir(r'D:\\Projects\\MobilityForecast\\Repo\\mobilityforecast\\data')"
   ]
  },
  {
   "cell_type": "code",
   "execution_count": null,
   "metadata": {},
   "outputs": [],
   "source": [
    "## Read the data -> Sort by time -> filter out the data (irrleavant) -> ST feature map -> \n",
    "## ST map should capture the demand b/w pick up zone and drop off zone as a function of time(hourly)\n",
    "\n",
    "## The idea is for the Variantional Auto encoder to predict the t+1 ST map given 1,2,3..,t-1,t ST map\n",
    "\n",
    "## The processing of the citi bike and the weather data should also follow the same format.."
   ]
  },
  {
   "cell_type": "code",
   "execution_count": null,
   "metadata": {},
   "outputs": [],
   "source": [
    "df = pd.read_parquet('yellow_tripdata_2022-01.parquet',engine='pyarrow')\n",
    "# sorting the values is important to capture the temporal relation of the Spatio temporal data\n",
    "df = df.sort_values(by='tpep_pickup_datetime', ascending=True)"
   ]
  },
  {
   "cell_type": "code",
   "execution_count": null,
   "metadata": {},
   "outputs": [],
   "source": [
    "df['tpep_pickup_datetime']=pd.to_datetime(df['tpep_pickup_datetime']) # converting the date-time to python date-time objects to access built-in methods\n",
    "df['tpep_dropoff_datetime']=pd.to_datetime(df['tpep_dropoff_datetime'])"
   ]
  },
  {
   "cell_type": "code",
   "execution_count": null,
   "metadata": {},
   "outputs": [],
   "source": [
    "df = df.drop(columns=['store_and_fwd_flag', 'VendorID' , 'RatecodeID', 'payment_type','fare_amount', 'extra' , 'mta_tax', 'tip_amount',\n",
    "'tolls_amount', 'improvement_surcharge','total_amount', 'congestion_surcharge', 'airport_fee', 'trip_distance', 'passenger_count']) # dropping the store and forward flag, VendorID is the company that provided the record(this does not add any value to our study)\n",
    "df = df.dropna(axis=0) # RatecodeID and payment_type are categorical features affecting the price of the trip, we discard this for the moment as this does not add value to our study. \n",
    "df.head(5)"
   ]
  },
  {
   "cell_type": "code",
   "execution_count": null,
   "metadata": {},
   "outputs": [],
   "source": [
    "#df = filter_outliers(df)"
   ]
  },
  {
   "cell_type": "code",
   "execution_count": null,
   "metadata": {},
   "outputs": [],
   "source": [
    "# os.chdir(r'D:\\Projects\\MobilityForecast\\Repo\\mobilityforecast\\help\\images')\n",
    "# BB = (-74.5, -72.8, 40.5, 41.8)\n",
    "# nyc_map = plt.imread('nyc_-74.3_-73.7_40.5_40.9.png')\n",
    "\n",
    "# # load extra image to zoom in on NYC\n",
    "# BB_zoom = (-74.3, -73.7, 40.5, 40.9)\n",
    "# nyc_map_zoom = plt.imread('nyc_-74.5_-72.8_40.5_41.8.png')"
   ]
  },
  {
   "cell_type": "code",
   "execution_count": null,
   "metadata": {},
   "outputs": [],
   "source": [
    "# splitting the date-time objects to date and time\n",
    "\n",
    "df['pickup_year'] = df['tpep_pickup_datetime'].apply(lambda t: t.year)\n",
    "df['pickup_month'] = df['tpep_pickup_datetime'].apply(lambda t: t.month)\n",
    "df['pickup_weekday'] = df['tpep_pickup_datetime'].apply(lambda t: t.weekday())\n",
    "df['pickup_hour'] = df['tpep_pickup_datetime'].apply(lambda t: t.hour)\n",
    "\n",
    "# df['dropoff_year'] = df['tpep_dropoff_datetime'].apply(lambda t: t.year)\n",
    "# df['dropoff_month'] = df['tpep_dropoff_datetime'].apply(lambda t: t.month)\n",
    "# df['dropoff_weekday'] = df['tpep_dropoff_datetime'].apply(lambda t: t.weekday())\n",
    "# df['dropoff_hour'] = df['tpep_dropoff_datetime'].apply(lambda t: t.hour)\n",
    "\n",
    "df = df.drop(columns=['tpep_pickup_datetime', 'tpep_dropoff_datetime'])"
   ]
  },
  {
   "cell_type": "code",
   "execution_count": null,
   "metadata": {},
   "outputs": [],
   "source": [
    "# filter out the dates which are irrelavnt to the study\n",
    "\n",
    "df = df[(df.pickup_year == 2022)]\n",
    "df = df[(df.pickup_month == 1)]"
   ]
  },
  {
   "cell_type": "code",
   "execution_count": null,
   "metadata": {},
   "outputs": [],
   "source": [
    "#df = df.drop(columns=['dropoff_year', 'dropoff_month','dropoff_weekday','dropoff_hour', 'pickup_year', 'pickup_month'])\n",
    "# df = df.drop(columns=['pickup_year', 'pickup_month'])\n",
    "# df.head()"
   ]
  },
  {
   "cell_type": "code",
   "execution_count": null,
   "metadata": {},
   "outputs": [],
   "source": [
    "#features = df.groupby(['PULocationID', 'DOLocationID']).size().reset_index(name='demand')"
   ]
  },
  {
   "cell_type": "code",
   "execution_count": null,
   "metadata": {},
   "outputs": [],
   "source": [
    "#features = features.dropna()\n",
    "#features"
   ]
  },
  {
   "cell_type": "code",
   "execution_count": null,
   "metadata": {},
   "outputs": [],
   "source": [
    "# plt.Figure(figsize=(15,15))\n",
    "# table = features.pivot('PULocationID', 'DOLocationID', 'demand')\n",
    "# ax = sns.heatmap(table)\n",
    "# ax.invert_yaxis()\n",
    "# plt.show()"
   ]
  },
  {
   "cell_type": "code",
   "execution_count": null,
   "metadata": {},
   "outputs": [],
   "source": []
  },
  {
   "cell_type": "code",
   "execution_count": null,
   "metadata": {},
   "outputs": [],
   "source": []
  },
  {
   "cell_type": "code",
   "execution_count": null,
   "metadata": {},
   "outputs": [],
   "source": [
    "d"
   ]
  },
  {
   "cell_type": "code",
   "execution_count": null,
   "metadata": {},
   "outputs": [],
   "source": []
  },
  {
   "cell_type": "code",
   "execution_count": null,
   "metadata": {},
   "outputs": [],
   "source": []
  }
 ],
 "metadata": {
  "kernelspec": {
   "display_name": "Python 3.7.13 ('mobilityforecast')",
   "language": "python",
   "name": "python3"
  },
  "language_info": {
   "codemirror_mode": {
    "name": "ipython",
    "version": 3
   },
   "file_extension": ".py",
   "mimetype": "text/x-python",
   "name": "python",
   "nbconvert_exporter": "python",
   "pygments_lexer": "ipython3",
   "version": "3.7.13"
  },
  "orig_nbformat": 4,
  "vscode": {
   "interpreter": {
    "hash": "a489ebabc6b1c3c996df92d9378f45c983839505199bbf18af484bb22de14d32"
   }
  }
 },
 "nbformat": 4,
 "nbformat_minor": 2
}
