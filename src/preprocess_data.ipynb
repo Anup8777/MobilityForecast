{
 "cells": [
  {
   "cell_type": "code",
   "execution_count": 1,
   "metadata": {},
   "outputs": [
    {
     "name": "stderr",
     "output_type": "stream",
     "text": [
      "2022-10-25 10:45:46.771177: I tensorflow/core/platform/cpu_feature_guard.cc:193] This TensorFlow binary is optimized with oneAPI Deep Neural Network Library (oneDNN) to use the following CPU instructions in performance-critical operations:  AVX2 FMA\n",
      "To enable them in other operations, rebuild TensorFlow with the appropriate compiler flags.\n"
     ]
    }
   ],
   "source": [
    "import pandas as pd\n",
    "import numpy as np\n",
    "import numpy.polynomial.polynomial as poly\n",
    "import matplotlib as mpl\n",
    "import matplotlib.pyplot as plt\n",
    "import seaborn as sns\n",
    "import os\n",
    "import datetime\n",
    "import calendar\n",
    "import math\n",
    "import tensorflow as tf\n",
    "from sklearn.preprocessing import MinMaxScaler\n",
    "import joblib\n",
    "# from sklearn.model_selection import train_test_split\n",
    "\n",
    "import shapefile\n",
    "\n",
    "from data_utils import *"
   ]
  },
  {
   "cell_type": "markdown",
   "metadata": {},
   "source": [
    "# Process Feedforward Data"
   ]
  },
  {
   "cell_type": "code",
   "execution_count": 3,
   "metadata": {},
   "outputs": [
    {
     "name": "stdout",
     "output_type": "stream",
     "text": [
      "\n",
      " CitiBike 2021 1 5\n",
      "\n",
      " Taxi 2021 1 5\n",
      "\n",
      " Weather 2021 1 5\n"
     ]
    },
    {
     "name": "stderr",
     "output_type": "stream",
     "text": [
      "/var/folders/cy/_6jfpkgj4vdb8s2ttjt33lt40000gn/T/ipykernel_18296/4142795403.py:14: DtypeWarning: Columns (5,7) have mixed types. Specify dtype option on import or set low_memory=False.\n",
      "  df = pd.read_csv(os.path.join(data_dir, data_file))\n"
     ]
    },
    {
     "name": "stdout",
     "output_type": "stream",
     "text": [
      "\n",
      " CitiBike 2021 2 5\n",
      "\n",
      " Taxi 2021 2 5\n",
      "\n",
      " Weather 2021 2 5\n"
     ]
    },
    {
     "name": "stderr",
     "output_type": "stream",
     "text": [
      "/var/folders/cy/_6jfpkgj4vdb8s2ttjt33lt40000gn/T/ipykernel_18296/4142795403.py:14: DtypeWarning: Columns (5,7) have mixed types. Specify dtype option on import or set low_memory=False.\n",
      "  df = pd.read_csv(os.path.join(data_dir, data_file))\n"
     ]
    },
    {
     "name": "stdout",
     "output_type": "stream",
     "text": [
      "\n",
      " CitiBike 2021 3 5\n",
      "\n",
      " Taxi 2021 3 5\n",
      "\n",
      " Weather 2021 3 5\n"
     ]
    },
    {
     "name": "stderr",
     "output_type": "stream",
     "text": [
      "/var/folders/cy/_6jfpkgj4vdb8s2ttjt33lt40000gn/T/ipykernel_18296/4142795403.py:14: DtypeWarning: Columns (5,7) have mixed types. Specify dtype option on import or set low_memory=False.\n",
      "  df = pd.read_csv(os.path.join(data_dir, data_file))\n"
     ]
    },
    {
     "name": "stdout",
     "output_type": "stream",
     "text": [
      "\n",
      " CitiBike 2021 4 5\n",
      "\n",
      " Taxi 2021 4 5\n",
      "\n",
      " Weather 2021 4 5\n"
     ]
    },
    {
     "name": "stderr",
     "output_type": "stream",
     "text": [
      "/var/folders/cy/_6jfpkgj4vdb8s2ttjt33lt40000gn/T/ipykernel_18296/4142795403.py:14: DtypeWarning: Columns (5,7) have mixed types. Specify dtype option on import or set low_memory=False.\n",
      "  df = pd.read_csv(os.path.join(data_dir, data_file))\n"
     ]
    },
    {
     "name": "stdout",
     "output_type": "stream",
     "text": [
      "\n",
      " CitiBike 2021 5 5\n",
      "\n",
      " Taxi 2021 5 5\n",
      "\n",
      " Weather 2021 5 5\n"
     ]
    },
    {
     "name": "stderr",
     "output_type": "stream",
     "text": [
      "/var/folders/cy/_6jfpkgj4vdb8s2ttjt33lt40000gn/T/ipykernel_18296/4142795403.py:14: DtypeWarning: Columns (7) have mixed types. Specify dtype option on import or set low_memory=False.\n",
      "  df = pd.read_csv(os.path.join(data_dir, data_file))\n"
     ]
    },
    {
     "name": "stdout",
     "output_type": "stream",
     "text": [
      "\n",
      " CitiBike 2021 6 5\n",
      "\n",
      " Taxi 2021 6 5\n",
      "\n",
      " Weather 2021 6 5\n"
     ]
    },
    {
     "name": "stderr",
     "output_type": "stream",
     "text": [
      "/var/folders/cy/_6jfpkgj4vdb8s2ttjt33lt40000gn/T/ipykernel_18296/4142795403.py:14: DtypeWarning: Columns (7) have mixed types. Specify dtype option on import or set low_memory=False.\n",
      "  df = pd.read_csv(os.path.join(data_dir, data_file))\n"
     ]
    },
    {
     "name": "stdout",
     "output_type": "stream",
     "text": [
      "\n",
      " CitiBike 2021 7 5\n",
      "\n",
      " Taxi 2021 7 5\n",
      "\n",
      " Weather 2021 7 5\n"
     ]
    },
    {
     "name": "stderr",
     "output_type": "stream",
     "text": [
      "/var/folders/cy/_6jfpkgj4vdb8s2ttjt33lt40000gn/T/ipykernel_18296/4142795403.py:14: DtypeWarning: Columns (7) have mixed types. Specify dtype option on import or set low_memory=False.\n",
      "  df = pd.read_csv(os.path.join(data_dir, data_file))\n"
     ]
    },
    {
     "name": "stdout",
     "output_type": "stream",
     "text": [
      "\n",
      " CitiBike 2021 8 5\n",
      "\n",
      " Taxi 2021 8 5\n",
      "\n",
      " Weather 2021 8 5\n"
     ]
    },
    {
     "name": "stderr",
     "output_type": "stream",
     "text": [
      "/var/folders/cy/_6jfpkgj4vdb8s2ttjt33lt40000gn/T/ipykernel_18296/4142795403.py:14: DtypeWarning: Columns (7) have mixed types. Specify dtype option on import or set low_memory=False.\n",
      "  df = pd.read_csv(os.path.join(data_dir, data_file))\n"
     ]
    },
    {
     "name": "stdout",
     "output_type": "stream",
     "text": [
      "\n",
      " CitiBike 2021 9 5\n",
      "\n",
      " Taxi 2021 9 5\n",
      "\n",
      " Weather 2021 9 5\n"
     ]
    },
    {
     "name": "stderr",
     "output_type": "stream",
     "text": [
      "/var/folders/cy/_6jfpkgj4vdb8s2ttjt33lt40000gn/T/ipykernel_18296/4142795403.py:14: DtypeWarning: Columns (5,7) have mixed types. Specify dtype option on import or set low_memory=False.\n",
      "  df = pd.read_csv(os.path.join(data_dir, data_file))\n"
     ]
    },
    {
     "name": "stdout",
     "output_type": "stream",
     "text": [
      "\n",
      " CitiBike 2021 10 5\n",
      "\n",
      " Taxi 2021 10 5\n",
      "\n",
      " Weather 2021 10 5\n"
     ]
    },
    {
     "name": "stderr",
     "output_type": "stream",
     "text": [
      "/var/folders/cy/_6jfpkgj4vdb8s2ttjt33lt40000gn/T/ipykernel_18296/4142795403.py:14: DtypeWarning: Columns (5,7) have mixed types. Specify dtype option on import or set low_memory=False.\n",
      "  df = pd.read_csv(os.path.join(data_dir, data_file))\n"
     ]
    },
    {
     "name": "stdout",
     "output_type": "stream",
     "text": [
      "\n",
      " CitiBike 2021 11 5\n",
      "\n",
      " Taxi 2021 11 5\n",
      "\n",
      " Weather 2021 11 5\n"
     ]
    },
    {
     "name": "stderr",
     "output_type": "stream",
     "text": [
      "/var/folders/cy/_6jfpkgj4vdb8s2ttjt33lt40000gn/T/ipykernel_18296/4142795403.py:14: DtypeWarning: Columns (5,7) have mixed types. Specify dtype option on import or set low_memory=False.\n",
      "  df = pd.read_csv(os.path.join(data_dir, data_file))\n"
     ]
    },
    {
     "name": "stdout",
     "output_type": "stream",
     "text": [
      "\n",
      " CitiBike 2021 12 5\n",
      "\n",
      " Taxi 2021 12 5\n",
      "\n",
      " Weather 2021 12 5\n"
     ]
    }
   ],
   "source": [
    "# Set the directory for your local machine\n",
    "data_dir = '/Users/probook/Documents/GitHub/mobilityforecast/data/'\n",
    "\n",
    "# Load all of 2021 taxi and bike data\n",
    "\n",
    "year = 2021\n",
    "\n",
    "df_binned_bike = pd.DataFrame()\n",
    "df_binned_taxi = pd.DataFrame()\n",
    "df_weather_pp = pd.DataFrame()\n",
    "\n",
    "df_weather = load_data(data_dir,'manhattan.csv','csv')\n",
    "\n",
    "for i in range(0,12):\n",
    "    df_bike = load_data(data_dir,'2021{:02d}-citibike-tripdata.csv'.format(i+1),'csv')\n",
    "    df_taxi = load_data(data_dir,'yellow_tripdata_2021-{:02d}.parquet'.format(i+1),'parquet')\n",
    "    df_bike_pp = feedforward_data(df_bike, data_dir, 'CitiBike', year, i+1, 5)\n",
    "    df_taxi_pp = feedforward_data(df_taxi, data_dir, 'Taxi', year, i+1, 5)\n",
    "    df_binned_bike = pd.concat([df_binned_bike, df_bike_pp])\n",
    "    df_binned_taxi = pd.concat([df_binned_taxi, df_taxi_pp])\n",
    "    df_weather_temp = feedforward_data(df_weather, data_dir, 'Weather', year, i+1)\n",
    "    df_weather_pp = pd.concat([df_weather_pp, df_weather_temp])\n"
   ]
  },
  {
   "cell_type": "code",
   "execution_count": 4,
   "metadata": {},
   "outputs": [],
   "source": [
    "test = merge_data(df_binned_taxi, df_binned_bike, df_weather_pp)"
   ]
  },
  {
   "cell_type": "code",
   "execution_count": 5,
   "metadata": {},
   "outputs": [],
   "source": [
    "test_final = transform_ff_data(test, 5)"
   ]
  },
  {
   "cell_type": "code",
   "execution_count": 6,
   "metadata": {},
   "outputs": [],
   "source": [
    "dataset_final = normalize_data(test_final)"
   ]
  },
  {
   "cell_type": "code",
   "execution_count": 7,
   "metadata": {},
   "outputs": [],
   "source": [
    "dataset_final.to_csv((data_dir + 'feedforward_2021.csv'))"
   ]
  },
  {
   "cell_type": "markdown",
   "metadata": {},
   "source": [
    "# Process GAN data"
   ]
  },
  {
   "cell_type": "code",
   "execution_count": 19,
   "metadata": {},
   "outputs": [
    {
     "name": "stdout",
     "output_type": "stream",
     "text": [
      "\n",
      " CitiBike 2021 1 4\n",
      "\n",
      " Taxi 2021 1 4\n",
      "\n",
      " Weather 2021 1 5\n",
      "(1, 8, 24, 31)\n"
     ]
    },
    {
     "name": "stderr",
     "output_type": "stream",
     "text": [
      "/var/folders/cy/_6jfpkgj4vdb8s2ttjt33lt40000gn/T/ipykernel_18296/2892649162.py:14: DtypeWarning: Columns (5,7) have mixed types. Specify dtype option on import or set low_memory=False.\n",
      "  df = pd.read_csv(os.path.join(data_dir, data_file))\n"
     ]
    },
    {
     "name": "stdout",
     "output_type": "stream",
     "text": [
      "\n",
      " CitiBike 2021 2 4\n",
      "\n",
      " Taxi 2021 2 4\n",
      "\n",
      " Weather 2021 2 5\n",
      "(1, 8, 24, 28)\n"
     ]
    },
    {
     "name": "stderr",
     "output_type": "stream",
     "text": [
      "/var/folders/cy/_6jfpkgj4vdb8s2ttjt33lt40000gn/T/ipykernel_18296/2892649162.py:14: DtypeWarning: Columns (5,7) have mixed types. Specify dtype option on import or set low_memory=False.\n",
      "  df = pd.read_csv(os.path.join(data_dir, data_file))\n"
     ]
    },
    {
     "name": "stdout",
     "output_type": "stream",
     "text": [
      "\n",
      " CitiBike 2021 3 4\n",
      "\n",
      " Taxi 2021 3 4\n",
      "\n",
      " Weather 2021 3 5\n",
      "(1, 8, 24, 31)\n"
     ]
    },
    {
     "name": "stderr",
     "output_type": "stream",
     "text": [
      "/var/folders/cy/_6jfpkgj4vdb8s2ttjt33lt40000gn/T/ipykernel_18296/2892649162.py:14: DtypeWarning: Columns (5,7) have mixed types. Specify dtype option on import or set low_memory=False.\n",
      "  df = pd.read_csv(os.path.join(data_dir, data_file))\n"
     ]
    },
    {
     "name": "stdout",
     "output_type": "stream",
     "text": [
      "\n",
      " CitiBike 2021 4 4\n",
      "\n",
      " Taxi 2021 4 4\n",
      "\n",
      " Weather 2021 4 5\n",
      "(1, 8, 24, 30)\n"
     ]
    },
    {
     "name": "stderr",
     "output_type": "stream",
     "text": [
      "/var/folders/cy/_6jfpkgj4vdb8s2ttjt33lt40000gn/T/ipykernel_18296/2892649162.py:14: DtypeWarning: Columns (5,7) have mixed types. Specify dtype option on import or set low_memory=False.\n",
      "  df = pd.read_csv(os.path.join(data_dir, data_file))\n"
     ]
    },
    {
     "name": "stdout",
     "output_type": "stream",
     "text": [
      "\n",
      " CitiBike 2021 5 4\n",
      "\n",
      " Taxi 2021 5 4\n",
      "\n",
      " Weather 2021 5 5\n",
      "(1, 8, 24, 31)\n"
     ]
    },
    {
     "name": "stderr",
     "output_type": "stream",
     "text": [
      "/var/folders/cy/_6jfpkgj4vdb8s2ttjt33lt40000gn/T/ipykernel_18296/2892649162.py:14: DtypeWarning: Columns (7) have mixed types. Specify dtype option on import or set low_memory=False.\n",
      "  df = pd.read_csv(os.path.join(data_dir, data_file))\n"
     ]
    },
    {
     "name": "stdout",
     "output_type": "stream",
     "text": [
      "\n",
      " CitiBike 2021 6 4\n",
      "\n",
      " Taxi 2021 6 4\n",
      "\n",
      " Weather 2021 6 5\n",
      "(1, 8, 24, 30)\n"
     ]
    },
    {
     "name": "stderr",
     "output_type": "stream",
     "text": [
      "/var/folders/cy/_6jfpkgj4vdb8s2ttjt33lt40000gn/T/ipykernel_18296/2892649162.py:14: DtypeWarning: Columns (7) have mixed types. Specify dtype option on import or set low_memory=False.\n",
      "  df = pd.read_csv(os.path.join(data_dir, data_file))\n"
     ]
    },
    {
     "name": "stdout",
     "output_type": "stream",
     "text": [
      "\n",
      " CitiBike 2021 7 4\n",
      "\n",
      " Taxi 2021 7 4\n",
      "\n",
      " Weather 2021 7 5\n",
      "(1, 8, 24, 31)\n"
     ]
    },
    {
     "name": "stderr",
     "output_type": "stream",
     "text": [
      "/var/folders/cy/_6jfpkgj4vdb8s2ttjt33lt40000gn/T/ipykernel_18296/2892649162.py:14: DtypeWarning: Columns (7) have mixed types. Specify dtype option on import or set low_memory=False.\n",
      "  df = pd.read_csv(os.path.join(data_dir, data_file))\n"
     ]
    },
    {
     "name": "stdout",
     "output_type": "stream",
     "text": [
      "\n",
      " CitiBike 2021 8 4\n",
      "\n",
      " Taxi 2021 8 4\n",
      "\n",
      " Weather 2021 8 5\n",
      "(1, 8, 24, 31)\n"
     ]
    },
    {
     "name": "stderr",
     "output_type": "stream",
     "text": [
      "/var/folders/cy/_6jfpkgj4vdb8s2ttjt33lt40000gn/T/ipykernel_18296/2892649162.py:14: DtypeWarning: Columns (7) have mixed types. Specify dtype option on import or set low_memory=False.\n",
      "  df = pd.read_csv(os.path.join(data_dir, data_file))\n"
     ]
    },
    {
     "name": "stdout",
     "output_type": "stream",
     "text": [
      "\n",
      " CitiBike 2021 9 4\n",
      "\n",
      " Taxi 2021 9 4\n",
      "\n",
      " Weather 2021 9 5\n",
      "(1, 8, 24, 30)\n"
     ]
    },
    {
     "name": "stderr",
     "output_type": "stream",
     "text": [
      "/var/folders/cy/_6jfpkgj4vdb8s2ttjt33lt40000gn/T/ipykernel_18296/2892649162.py:14: DtypeWarning: Columns (5,7) have mixed types. Specify dtype option on import or set low_memory=False.\n",
      "  df = pd.read_csv(os.path.join(data_dir, data_file))\n"
     ]
    },
    {
     "name": "stdout",
     "output_type": "stream",
     "text": [
      "\n",
      " CitiBike 2021 10 4\n",
      "\n",
      " Taxi 2021 10 4\n",
      "\n",
      " Weather 2021 10 5\n",
      "(1, 8, 24, 31)\n"
     ]
    },
    {
     "name": "stderr",
     "output_type": "stream",
     "text": [
      "/var/folders/cy/_6jfpkgj4vdb8s2ttjt33lt40000gn/T/ipykernel_18296/2892649162.py:14: DtypeWarning: Columns (5,7) have mixed types. Specify dtype option on import or set low_memory=False.\n",
      "  df = pd.read_csv(os.path.join(data_dir, data_file))\n"
     ]
    },
    {
     "name": "stdout",
     "output_type": "stream",
     "text": [
      "\n",
      " CitiBike 2021 11 4\n",
      "\n",
      " Taxi 2021 11 4\n",
      "\n",
      " Weather 2021 11 5\n",
      "(1, 8, 24, 30)\n"
     ]
    },
    {
     "name": "stderr",
     "output_type": "stream",
     "text": [
      "/var/folders/cy/_6jfpkgj4vdb8s2ttjt33lt40000gn/T/ipykernel_18296/2892649162.py:14: DtypeWarning: Columns (5,7) have mixed types. Specify dtype option on import or set low_memory=False.\n",
      "  df = pd.read_csv(os.path.join(data_dir, data_file))\n"
     ]
    },
    {
     "name": "stdout",
     "output_type": "stream",
     "text": [
      "\n",
      " CitiBike 2021 12 4\n",
      "\n",
      " Taxi 2021 12 4\n",
      "\n",
      " Weather 2021 12 5\n",
      "(1, 8, 24, 31)\n"
     ]
    }
   ],
   "source": [
    "data_dir = '/Users/probook/Documents/GitHub/mobility-mini-project/data/'\n",
    "num_bins = 4\n",
    "# Load all of 2021 taxi and bike data\n",
    "year = 2021\n",
    "\n",
    "# Create an empty array to store the processed arrays for each month\n",
    "bike_array = np.empty((0, num_bins**2, num_bins**2, 1))\n",
    "taxi_array = np.empty((0, num_bins**2, num_bins**2, 1))\n",
    "weather_array = np.empty((0, 1, 8))\n",
    "\n",
    "df_weather = load_data(data_dir,'manhattan.csv','csv')\n",
    "\n",
    "for i in range(0,12):\n",
    "    df_bike = load_data(data_dir,'2021{:02d}-citibike-tripdata.csv'.format(i+1),'csv')\n",
    "    df_taxi = load_data(data_dir,'yellow_tripdata_2021-{:02d}.parquet'.format(i+1),'parquet')\n",
    "    st_bike_pp = gan_data(df_bike, data_dir, 'CitiBike', year, i+1, num_bins)\n",
    "    st_taxi_pp = gan_data(df_taxi, data_dir, 'Taxi', year, i+1, num_bins)\n",
    "    st_weather_pp = gan_data(df_weather, data_dir, 'Weather', year, i+1)\n",
    "    # concatenate with existing arrays\n",
    "    bike_array = np.concatenate((bike_array, st_bike_pp))\n",
    "    taxi_array = np.concatenate((taxi_array, st_taxi_pp))\n",
    "    weather_array = np.concatenate((weather_array, st_weather_pp))\n"
   ]
  },
  {
   "cell_type": "code",
   "execution_count": 20,
   "metadata": {},
   "outputs": [
    {
     "name": "stdout",
     "output_type": "stream",
     "text": [
      "(8760, 16, 16, 1) (8760, 16, 16, 1) (8760, 1, 8)\n"
     ]
    }
   ],
   "source": [
    "print(taxi_array.shape, bike_array.shape, weather_array.shape)"
   ]
  },
  {
   "cell_type": "code",
   "execution_count": 21,
   "metadata": {},
   "outputs": [],
   "source": [
    "# Save the arrays to individual csv files\n",
    "np.save((data_dir + 'gan_bike_2021.npy'), bike_array)\n",
    "np.save((data_dir + 'gan_taxi_2021.npy'), taxi_array)\n",
    "np.save((data_dir + 'gan_weather_2021.npy'), weather_array)"
   ]
  },
  {
   "cell_type": "code",
   "execution_count": null,
   "metadata": {},
   "outputs": [],
   "source": []
  }
 ],
 "metadata": {
  "kernelspec": {
   "display_name": "Python 3.8.13 ('mobility')",
   "language": "python",
   "name": "python3"
  },
  "language_info": {
   "codemirror_mode": {
    "name": "ipython",
    "version": 3
   },
   "file_extension": ".py",
   "mimetype": "text/x-python",
   "name": "python",
   "nbconvert_exporter": "python",
   "pygments_lexer": "ipython3",
   "version": "3.8.13"
  },
  "orig_nbformat": 4,
  "vscode": {
   "interpreter": {
    "hash": "a13a998b53916b4eada4543eea7e41336b9b0d9c7b61df3419d4765325c9e9f7"
   }
  }
 },
 "nbformat": 4,
 "nbformat_minor": 2
}
