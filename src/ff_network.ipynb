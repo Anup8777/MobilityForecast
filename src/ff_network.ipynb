{
 "cells": [
  {
   "cell_type": "code",
   "execution_count": 1,
   "metadata": {},
   "outputs": [
    {
     "name": "stderr",
     "output_type": "stream",
     "text": [
      "2022-10-28 14:40:35.773233: I tensorflow/core/platform/cpu_feature_guard.cc:193] This TensorFlow binary is optimized with oneAPI Deep Neural Network Library (oneDNN) to use the following CPU instructions in performance-critical operations:  AVX2 FMA\n",
      "To enable them in other operations, rebuild TensorFlow with the appropriate compiler flags.\n"
     ]
    }
   ],
   "source": [
    "from IPython import display\n",
    "\n",
    "import glob\n",
    "import imageio\n",
    "import matplotlib.pyplot as plt\n",
    "import numpy as np\n",
    "import numpy.polynomial.polynomial as poly\n",
    "# import PIL\n",
    "import tensorflow as tf\n",
    "# import tensorflow_probability as tfp\n",
    "# import tensorflow.contrib as tf_contrib\n",
    "import time\n",
    "from sklearn.model_selection import train_test_split\n",
    "from sklearn.model_selection import TimeSeriesSplit\n",
    "from sklearn.model_selection import RepeatedKFold\n",
    "from sklearn.preprocessing import MinMaxScaler\n",
    "from sklearn.preprocessing import StandardScaler\n",
    "from sklearn.preprocessing import OneHotEncoder\n",
    "\n",
    "from sklearn.multioutput import MultiOutputRegressor\n",
    "from sklearn.ensemble import RandomForestRegressor\n",
    "\n",
    "from sklearn.metrics import mean_absolute_error\n",
    "\n",
    "from sklearn.pipeline import make_pipeline\n",
    "import joblib\n",
    "\n",
    "import calendar\n",
    "\n",
    "import pandas as pd\n",
    "\n",
    "import seaborn as sns\n",
    "from data_utils import *"
   ]
  },
  {
   "cell_type": "markdown",
   "metadata": {},
   "source": [
    "# Load Presaved Data"
   ]
  },
  {
   "cell_type": "code",
   "execution_count": 2,
   "metadata": {},
   "outputs": [],
   "source": [
    "# Set the directory for your local machine\n",
    "\n",
    "# data_dir = r'D:\\Projects\\MobilityForecast\\Repo\\mobilityforecast\\data'\n",
    "data_dir = '/Users/probook/Documents/GitHub/mobility-mini-project/data/'\n",
    "data_all = pd.read_csv(data_dir + 'feedforward_2021.csv', delimiter=',')\n",
    "data_all.pop('Unnamed: 0')\n",
    "data = data_all.copy()"
   ]
  },
  {
   "cell_type": "code",
   "execution_count": 3,
   "metadata": {},
   "outputs": [
    {
     "data": {
      "text/html": [
       "<div>\n",
       "<style scoped>\n",
       "    .dataframe tbody tr th:only-of-type {\n",
       "        vertical-align: middle;\n",
       "    }\n",
       "\n",
       "    .dataframe tbody tr th {\n",
       "        vertical-align: top;\n",
       "    }\n",
       "\n",
       "    .dataframe thead th {\n",
       "        text-align: right;\n",
       "    }\n",
       "</style>\n",
       "<table border=\"1\" class=\"dataframe\">\n",
       "  <thead>\n",
       "    <tr style=\"text-align: right;\">\n",
       "      <th></th>\n",
       "      <th>pickup_month_sin</th>\n",
       "      <th>pickup_month_cos</th>\n",
       "      <th>pickup_day_sin</th>\n",
       "      <th>pickup_day_cos</th>\n",
       "      <th>pickup_hour_sin</th>\n",
       "      <th>pickup_hour_cos</th>\n",
       "      <th>start_end</th>\n",
       "      <th>temperature (degC)</th>\n",
       "      <th>wind_speed (m/s)</th>\n",
       "      <th>total_precipitation (mm of water equivalent)</th>\n",
       "      <th>snowfall (mm of water equivalent)</th>\n",
       "      <th>snow_depth (mm of water equivalent)</th>\n",
       "      <th>taxi_demand</th>\n",
       "      <th>bike_demand</th>\n",
       "    </tr>\n",
       "  </thead>\n",
       "  <tbody>\n",
       "    <tr>\n",
       "      <th>0</th>\n",
       "      <td>0.5</td>\n",
       "      <td>0.866025</td>\n",
       "      <td>0.0</td>\n",
       "      <td>1.0</td>\n",
       "      <td>0.0</td>\n",
       "      <td>1.0</td>\n",
       "      <td>0.1008</td>\n",
       "      <td>0.0</td>\n",
       "      <td>0.0</td>\n",
       "      <td>0.0</td>\n",
       "      <td>0.0</td>\n",
       "      <td>0.0</td>\n",
       "      <td>0.000066</td>\n",
       "      <td>0.0</td>\n",
       "    </tr>\n",
       "    <tr>\n",
       "      <th>1</th>\n",
       "      <td>0.5</td>\n",
       "      <td>0.866025</td>\n",
       "      <td>0.0</td>\n",
       "      <td>1.0</td>\n",
       "      <td>0.0</td>\n",
       "      <td>1.0</td>\n",
       "      <td>0.1104</td>\n",
       "      <td>0.0</td>\n",
       "      <td>0.0</td>\n",
       "      <td>0.0</td>\n",
       "      <td>0.0</td>\n",
       "      <td>0.0</td>\n",
       "      <td>0.000033</td>\n",
       "      <td>0.0</td>\n",
       "    </tr>\n",
       "    <tr>\n",
       "      <th>2</th>\n",
       "      <td>0.5</td>\n",
       "      <td>0.866025</td>\n",
       "      <td>0.0</td>\n",
       "      <td>1.0</td>\n",
       "      <td>0.0</td>\n",
       "      <td>1.0</td>\n",
       "      <td>0.1376</td>\n",
       "      <td>0.0</td>\n",
       "      <td>0.0</td>\n",
       "      <td>0.0</td>\n",
       "      <td>0.0</td>\n",
       "      <td>0.0</td>\n",
       "      <td>0.000098</td>\n",
       "      <td>0.0</td>\n",
       "    </tr>\n",
       "    <tr>\n",
       "      <th>3</th>\n",
       "      <td>0.5</td>\n",
       "      <td>0.866025</td>\n",
       "      <td>0.0</td>\n",
       "      <td>1.0</td>\n",
       "      <td>0.0</td>\n",
       "      <td>1.0</td>\n",
       "      <td>0.1488</td>\n",
       "      <td>0.0</td>\n",
       "      <td>0.0</td>\n",
       "      <td>0.0</td>\n",
       "      <td>0.0</td>\n",
       "      <td>0.0</td>\n",
       "      <td>0.000033</td>\n",
       "      <td>0.0</td>\n",
       "    </tr>\n",
       "    <tr>\n",
       "      <th>4</th>\n",
       "      <td>0.5</td>\n",
       "      <td>0.866025</td>\n",
       "      <td>0.0</td>\n",
       "      <td>1.0</td>\n",
       "      <td>0.0</td>\n",
       "      <td>1.0</td>\n",
       "      <td>0.1616</td>\n",
       "      <td>0.0</td>\n",
       "      <td>0.0</td>\n",
       "      <td>0.0</td>\n",
       "      <td>0.0</td>\n",
       "      <td>0.0</td>\n",
       "      <td>0.000033</td>\n",
       "      <td>0.0</td>\n",
       "    </tr>\n",
       "  </tbody>\n",
       "</table>\n",
       "</div>"
      ],
      "text/plain": [
       "   pickup_month_sin  pickup_month_cos  pickup_day_sin  pickup_day_cos  \\\n",
       "0               0.5          0.866025             0.0             1.0   \n",
       "1               0.5          0.866025             0.0             1.0   \n",
       "2               0.5          0.866025             0.0             1.0   \n",
       "3               0.5          0.866025             0.0             1.0   \n",
       "4               0.5          0.866025             0.0             1.0   \n",
       "\n",
       "   pickup_hour_sin  pickup_hour_cos  start_end  temperature (degC)  \\\n",
       "0              0.0              1.0     0.1008                 0.0   \n",
       "1              0.0              1.0     0.1104                 0.0   \n",
       "2              0.0              1.0     0.1376                 0.0   \n",
       "3              0.0              1.0     0.1488                 0.0   \n",
       "4              0.0              1.0     0.1616                 0.0   \n",
       "\n",
       "   wind_speed (m/s)  total_precipitation (mm of water equivalent)  \\\n",
       "0               0.0                                           0.0   \n",
       "1               0.0                                           0.0   \n",
       "2               0.0                                           0.0   \n",
       "3               0.0                                           0.0   \n",
       "4               0.0                                           0.0   \n",
       "\n",
       "   snowfall (mm of water equivalent)  snow_depth (mm of water equivalent)  \\\n",
       "0                                0.0                                  0.0   \n",
       "1                                0.0                                  0.0   \n",
       "2                                0.0                                  0.0   \n",
       "3                                0.0                                  0.0   \n",
       "4                                0.0                                  0.0   \n",
       "\n",
       "   taxi_demand  bike_demand  \n",
       "0     0.000066          0.0  \n",
       "1     0.000033          0.0  \n",
       "2     0.000098          0.0  \n",
       "3     0.000033          0.0  \n",
       "4     0.000033          0.0  "
      ]
     },
     "execution_count": 3,
     "metadata": {},
     "output_type": "execute_result"
    }
   ],
   "source": [
    "data.head()"
   ]
  },
  {
   "cell_type": "code",
   "execution_count": 4,
   "metadata": {},
   "outputs": [],
   "source": [
    "y1 = data.pop('taxi_demand').values\n",
    "y2 = data.pop('bike_demand').values"
   ]
  },
  {
   "cell_type": "code",
   "execution_count": 5,
   "metadata": {},
   "outputs": [],
   "source": [
    "data_array = data.to_numpy()"
   ]
  },
  {
   "cell_type": "code",
   "execution_count": 6,
   "metadata": {},
   "outputs": [],
   "source": [
    "# train_ind = int(np.round(0.85*len(data_array)))\n",
    "# x_train = data_array[:train_ind]\n",
    "# x_test = data_array[train_ind:]\n",
    "# y1_train = y1[:train_ind]\n",
    "# y1_test = y1[train_ind:]\n",
    "# y2_train = y2[:train_ind]\n",
    "# y2_test = y2[train_ind:]\n",
    "\n",
    "# Split data into train and test\n",
    "x_train, x_test, y1_train, y1_test, y2_train, y2_test = train_test_split(data_array, y1, y2, test_size=0.2, random_state=42)\n"
   ]
  },
  {
   "cell_type": "code",
   "execution_count": 7,
   "metadata": {},
   "outputs": [],
   "source": [
    "x_train = pd.DataFrame(x_train, columns=data.columns)\n",
    "x_test = pd.DataFrame(x_test, columns=data.columns)"
   ]
  },
  {
   "cell_type": "code",
   "execution_count": 8,
   "metadata": {},
   "outputs": [
    {
     "name": "stdout",
     "output_type": "stream",
     "text": [
      "Metal device set to: AMD Radeon Pro 5300M\n",
      "\n",
      "systemMemory: 16.00 GB\n",
      "maxCacheSize: 1.99 GB\n",
      "\n"
     ]
    },
    {
     "name": "stderr",
     "output_type": "stream",
     "text": [
      "2022-10-28 14:40:45.919688: I tensorflow/core/platform/cpu_feature_guard.cc:193] This TensorFlow binary is optimized with oneAPI Deep Neural Network Library (oneDNN) to use the following CPU instructions in performance-critical operations:  AVX2 FMA\n",
      "To enable them in other operations, rebuild TensorFlow with the appropriate compiler flags.\n",
      "2022-10-28 14:40:45.924827: I tensorflow/core/common_runtime/pluggable_device/pluggable_device_factory.cc:306] Could not identify NUMA node of platform GPU ID 0, defaulting to 0. Your kernel may not have been built with NUMA support.\n",
      "2022-10-28 14:40:45.925034: I tensorflow/core/platform/cpu_feature_guard.cc:193] This TensorFlow binary is optimized with oneAPI Deep Neural Network Library (oneDNN) to use the following CPU instructions in performance-critical operations:  AVX2 FMA\n",
      "To enable them in other operations, rebuild TensorFlow with the appropriate compiler flags.\n",
      "2022-10-28 14:40:45.925901: I tensorflow/core/common_runtime/pluggable_device/pluggable_device_factory.cc:272] Created TensorFlow device (/job:localhost/replica:0/task:0/device:GPU:0 with 0 MB memory) -> physical PluggableDevice (device: 0, name: METAL, pci bus id: <undefined>)\n"
     ]
    }
   ],
   "source": [
    "x_train = tf.cast(x_train.values, tf.float32)\n",
    "x_test = tf.cast(x_test.values, tf.float32)\n",
    "\n",
    "y1_train = tf.cast(y1_train, tf.float32)\n",
    "y1_test = tf.cast(y1_test, tf.float32)\n",
    "\n",
    "y2_train = tf.cast(y2_train, tf.float32)\n",
    "y2_test = tf.cast(y2_test, tf.float32)"
   ]
  },
  {
   "cell_type": "code",
   "execution_count": 9,
   "metadata": {},
   "outputs": [],
   "source": [
    "# Reshape y1 and y2 to be 2D\n",
    "y1_train = tf.reshape(y1_train, (-1, 1))\n",
    "y1_test = tf.reshape(y1_test, (-1, 1))\n",
    "y2_train = tf.reshape(y2_train, (-1, 1))\n",
    "y2_test = tf.reshape(y2_test, (-1, 1))"
   ]
  },
  {
   "cell_type": "code",
   "execution_count": 10,
   "metadata": {},
   "outputs": [
    {
     "name": "stdout",
     "output_type": "stream",
     "text": [
      "input training and test shapes (325497, 12) (81375, 12)\n",
      "1 output training and test shapes (325497, 1) (81375, 1)\n",
      "1 output training and test shapes (325497, 1) (81375, 1)\n"
     ]
    }
   ],
   "source": [
    "print('input training and test shapes',x_train.shape, x_test.shape)\n",
    "print('1 output training and test shapes',y1_train.shape, y1_test.shape)\n",
    "print('1 output training and test shapes',y2_train.shape, y2_test.shape)"
   ]
  },
  {
   "cell_type": "code",
   "execution_count": 11,
   "metadata": {},
   "outputs": [
    {
     "data": {
      "text/plain": [
       "<matplotlib.legend.Legend at 0x7f9688b46730>"
      ]
     },
     "execution_count": 11,
     "metadata": {},
     "output_type": "execute_result"
    },
    {
     "data": {
      "image/png": "[encoded data removed]",
      "text/plain": [
       "<Figure size 640x480 with 1 Axes>"
      ]
     },
     "metadata": {},
     "output_type": "display_data"
    }
   ],
   "source": [
    "plt.plot(y1_train)\n",
    "plt.plot(y1_test)\n",
    "# legend\n",
    "plt.legend(['train', 'test'], loc='upper left')"
   ]
  },
  {
   "cell_type": "code",
   "execution_count": 12,
   "metadata": {},
   "outputs": [
    {
     "data": {
      "text/plain": [
       "<matplotlib.legend.Legend at 0x7f96a6ec4790>"
      ]
     },
     "execution_count": 12,
     "metadata": {},
     "output_type": "execute_result"
    },
    {
     "data": {
      "image/png": "[encoded data removed]",
      "text/plain": [
       "<Figure size 640x480 with 1 Axes>"
      ]
     },
     "metadata": {},
     "output_type": "display_data"
    }
   ],
   "source": [
    "plt.plot(y2_train)\n",
    "plt.plot(y2_test)\n",
    "# legend\n",
    "plt.legend(['train', 'test'], loc='upper left')"
   ]
  },
  {
   "cell_type": "markdown",
   "metadata": {},
   "source": [
    "# Scikit-Learn Models"
   ]
  },
  {
   "cell_type": "code",
   "execution_count": 37,
   "metadata": {},
   "outputs": [
    {
     "data": {
      "text/html": [
       "<style>#sk-container-id-1 {color: black;background-color: white;}#sk-container-id-1 pre{padding: 0;}#sk-container-id-1 div.sk-toggleable {background-color: white;}#sk-container-id-1 label.sk-toggleable__label {cursor: pointer;display: block;width: 100%;margin-bottom: 0;padding: 0.3em;box-sizing: border-box;text-align: center;}#sk-container-id-1 label.sk-toggleable__label-arrow:before {content: \"▸\";float: left;margin-right: 0.25em;color: #696969;}#sk-container-id-1 label.sk-toggleable__label-arrow:hover:before {color: black;}#sk-container-id-1 div.sk-estimator:hover label.sk-toggleable__label-arrow:before {color: black;}#sk-container-id-1 div.sk-toggleable__content {max-height: 0;max-width: 0;overflow: hidden;text-align: left;background-color: #f0f8ff;}#sk-container-id-1 div.sk-toggleable__content pre {margin: 0.2em;color: black;border-radius: 0.25em;background-color: #f0f8ff;}#sk-container-id-1 input.sk-toggleable__control:checked~div.sk-toggleable__content {max-height: 200px;max-width: 100%;overflow: auto;}#sk-container-id-1 input.sk-toggleable__control:checked~label.sk-toggleable__label-arrow:before {content: \"▾\";}#sk-container-id-1 div.sk-estimator input.sk-toggleable__control:checked~label.sk-toggleable__label {background-color: #d4ebff;}#sk-container-id-1 div.sk-label input.sk-toggleable__control:checked~label.sk-toggleable__label {background-color: #d4ebff;}#sk-container-id-1 input.sk-hidden--visually {border: 0;clip: rect(1px 1px 1px 1px);clip: rect(1px, 1px, 1px, 1px);height: 1px;margin: -1px;overflow: hidden;padding: 0;position: absolute;width: 1px;}#sk-container-id-1 div.sk-estimator {font-family: monospace;background-color: #f0f8ff;border: 1px dotted black;border-radius: 0.25em;box-sizing: border-box;margin-bottom: 0.5em;}#sk-container-id-1 div.sk-estimator:hover {background-color: #d4ebff;}#sk-container-id-1 div.sk-parallel-item::after {content: \"\";width: 100%;border-bottom: 1px solid gray;flex-grow: 1;}#sk-container-id-1 div.sk-label:hover label.sk-toggleable__label {background-color: #d4ebff;}#sk-container-id-1 div.sk-serial::before {content: \"\";position: absolute;border-left: 1px solid gray;box-sizing: border-box;top: 0;bottom: 0;left: 50%;z-index: 0;}#sk-container-id-1 div.sk-serial {display: flex;flex-direction: column;align-items: center;background-color: white;padding-right: 0.2em;padding-left: 0.2em;position: relative;}#sk-container-id-1 div.sk-item {position: relative;z-index: 1;}#sk-container-id-1 div.sk-parallel {display: flex;align-items: stretch;justify-content: center;background-color: white;position: relative;}#sk-container-id-1 div.sk-item::before, #sk-container-id-1 div.sk-parallel-item::before {content: \"\";position: absolute;border-left: 1px solid gray;box-sizing: border-box;top: 0;bottom: 0;left: 50%;z-index: -1;}#sk-container-id-1 div.sk-parallel-item {display: flex;flex-direction: column;z-index: 1;position: relative;background-color: white;}#sk-container-id-1 div.sk-parallel-item:first-child::after {align-self: flex-end;width: 50%;}#sk-container-id-1 div.sk-parallel-item:last-child::after {align-self: flex-start;width: 50%;}#sk-container-id-1 div.sk-parallel-item:only-child::after {width: 0;}#sk-container-id-1 div.sk-dashed-wrapped {border: 1px dashed gray;margin: 0 0.4em 0.5em 0.4em;box-sizing: border-box;padding-bottom: 0.4em;background-color: white;}#sk-container-id-1 div.sk-label label {font-family: monospace;font-weight: bold;display: inline-block;line-height: 1.2em;}#sk-container-id-1 div.sk-label-container {text-align: center;}#sk-container-id-1 div.sk-container {/* jupyter's `normalize.less` sets `[hidden] { display: none; }` but bootstrap.min.css set `[hidden] { display: none !important; }` so we also need the `!important` here to be able to override the default hidden behavior on the sphinx rendered scikit-learn.org. See: https://github.com/scikit-learn/scikit-learn/issues/21755 */display: inline-block !important;position: relative;}#sk-container-id-1 div.sk-text-repr-fallback {display: none;}</style><div id=\"sk-container-id-1\" class=\"sk-top-container\"><div class=\"sk-text-repr-fallback\"><pre>MultiOutputRegressor(estimator=RandomForestRegressor(max_depth=2,\n",
       "                                                     random_state=0))</pre><b>In a Jupyter environment, please rerun this cell to show the HTML representation or trust the notebook. <br />On GitHub, the HTML representation is unable to render, please try loading this page with nbviewer.org.</b></div><div class=\"sk-container\" hidden><div class=\"sk-item sk-dashed-wrapped\"><div class=\"sk-label-container\"><div class=\"sk-label sk-toggleable\"><input class=\"sk-toggleable__control sk-hidden--visually\" id=\"sk-estimator-id-1\" type=\"checkbox\" ><label for=\"sk-estimator-id-1\" class=\"sk-toggleable__label sk-toggleable__label-arrow\">MultiOutputRegressor</label><div class=\"sk-toggleable__content\"><pre>MultiOutputRegressor(estimator=RandomForestRegressor(max_depth=2,\n",
       "                                                     random_state=0))</pre></div></div></div><div class=\"sk-parallel\"><div class=\"sk-parallel-item\"><div class=\"sk-item\"><div class=\"sk-label-container\"><div class=\"sk-label sk-toggleable\"><input class=\"sk-toggleable__control sk-hidden--visually\" id=\"sk-estimator-id-2\" type=\"checkbox\" ><label for=\"sk-estimator-id-2\" class=\"sk-toggleable__label sk-toggleable__label-arrow\">estimator: RandomForestRegressor</label><div class=\"sk-toggleable__content\"><pre>RandomForestRegressor(max_depth=2, random_state=0)</pre></div></div></div><div class=\"sk-serial\"><div class=\"sk-item\"><div class=\"sk-estimator sk-toggleable\"><input class=\"sk-toggleable__control sk-hidden--visually\" id=\"sk-estimator-id-3\" type=\"checkbox\" ><label for=\"sk-estimator-id-3\" class=\"sk-toggleable__label sk-toggleable__label-arrow\">RandomForestRegressor</label><div class=\"sk-toggleable__content\"><pre>RandomForestRegressor(max_depth=2, random_state=0)</pre></div></div></div></div></div></div></div></div></div></div>"
      ],
      "text/plain": [
       "MultiOutputRegressor(estimator=RandomForestRegressor(max_depth=2,\n",
       "                                                     random_state=0))"
      ]
     },
     "execution_count": 37,
     "metadata": {},
     "output_type": "execute_result"
    }
   ],
   "source": [
    "y_train = tf.concat([y1_train, y2_train], axis=1)\n",
    "y_test = tf.concat([y1_test, y2_test], axis=1)\n",
    "clf = MultiOutputRegressor(RandomForestRegressor(max_depth=2, random_state=0))\n",
    "clf.fit(x_train, y_train)"
   ]
  },
  {
   "cell_type": "code",
   "execution_count": 38,
   "metadata": {},
   "outputs": [
    {
     "data": {
      "text/plain": [
       "array([[9.39115494e-04, 1.74962699e-07]])"
      ]
     },
     "execution_count": 38,
     "metadata": {},
     "output_type": "execute_result"
    }
   ],
   "source": [
    "demand = clf.predict(tf.reshape(x_test[3], (1, 12)))\n",
    "demand"
   ]
  },
  {
   "cell_type": "code",
   "execution_count": 39,
   "metadata": {},
   "outputs": [
    {
     "name": "stdout",
     "output_type": "stream",
     "text": [
      "MAE : 0.004175793293487866\n"
     ]
    }
   ],
   "source": [
    "print(\"MAE :\", mean_absolute_error(y_test,clf.predict(x_test)))"
   ]
  },
  {
   "cell_type": "code",
   "execution_count": 41,
   "metadata": {},
   "outputs": [],
   "source": [
    "# Load the taxi and bike demand scalers\n",
    "taxi_scaler = joblib.load('taxi_scaler.gz')\n",
    "bike_scaler = joblib.load('bike_scaler.gz')"
   ]
  },
  {
   "cell_type": "code",
   "execution_count": 42,
   "metadata": {},
   "outputs": [
    {
     "data": {
      "text/plain": [
       "[array([[28.61578821]]), array([[0.00405039]])]"
      ]
     },
     "execution_count": 42,
     "metadata": {},
     "output_type": "execute_result"
    }
   ],
   "source": [
    "demand_scaled = [taxi_scaler.inverse_transform(demand[0][0].reshape(-1,1)), bike_scaler.inverse_transform(demand[0][1].reshape(-1,1))]\n",
    "demand_scaled"
   ]
  },
  {
   "cell_type": "code",
   "execution_count": 44,
   "metadata": {},
   "outputs": [
    {
     "data": {
      "text/plain": [
       "['mo_regressor.sav']"
      ]
     },
     "execution_count": 44,
     "metadata": {},
     "output_type": "execute_result"
    }
   ],
   "source": [
    "# save the model to disk\n",
    "filename = 'mo_regressor.sav'\n",
    "joblib.dump(clf, filename)"
   ]
  },
  {
   "cell_type": "code",
   "execution_count": 45,
   "metadata": {},
   "outputs": [],
   "source": [
    "# load the model from disk\n",
    "loaded_model = joblib.load(filename)"
   ]
  },
  {
   "cell_type": "code",
   "execution_count": null,
   "metadata": {},
   "outputs": [],
   "source": [
    "def normalize_inputs(inputs):\n",
    "    rho_scaler = joblib.load('rho_scaler.gz')\n",
    "    theta_scaler = joblib.load('theta_scaler.gz')\n",
    "    temperature_scaler = joblib.load('temp_scaler.gz')\n",
    "    \n",
    "    inputs['rho'] = rho_scaler.transform(inputs['rho'].values.reshape(-1,1))\n",
    "    inputs['theta'] = theta_scaler.transform(inputs['theta'].values.reshape(-1,1))\n",
    "    inputs['temperature (degC)'] = temperature_scaler.transform(inputs['temperature (degC)'].values.reshape(-1,1))\n",
    "    return inputs"
   ]
  },
  {
   "cell_type": "code",
   "execution_count": null,
   "metadata": {},
   "outputs": [],
   "source": [
    "def query_model(features, model):\n",
    "    \"\"\"\n",
    "    Query the model for a prediction given a set of features.\n",
    "\n",
    "    Parameters\n",
    "    ----------\n",
    "    features : dict\n",
    "        A dictionary of features to query the model with.\n",
    "        Features should be in the following format:\n",
    "        {start_lat: float, start_lon: float, pickup_day: int[0:7], pickup_hour: int[0:24], \n",
    "        temperature: float, precip: int[0,1], wind: int[0,1], snowfall: int[0,1], snowcover: int[0,1]}\n",
    "\n",
    "    Returns\n",
    "    -------\n",
    "    prediction : int\n",
    "        The predicted taxi demand for the given features.\n",
    "\n",
    "    \"\"\"\n",
    "\n",
    "    # Transform latitude and longitude to radians and scale\n",
    "    rho, theta = cart2pol(features['start_lon'], features['start_lat']) \n",
    "\n",
    "    norm_features = {'rho': rho, 'theta': theta, 'temperature (degC)': features['temperature (degC)']}\n",
    "\n",
    "    # Transform the inputs to match the training \n",
    "    norm_inputs = normalize_inputs(pd.DataFrame(norm_features, index=[0]))\n",
    "\n",
    "    pickup_month_sin = np.sin(2 * np.pi * features['pickup_month']/12)\n",
    "    pickup_month_cos = np.cos(2 * np.pi * features['pickup_month']/12)\n",
    "    pickup_day_sin = np.sin(2 * np.pi * features['pickup_day']/7)\n",
    "    pickup_day_cos = np.cos(2 * np.pi * features['pickup_day']/7)\n",
    "    pickup_hour_sin = np.sin(2 * np.pi * features['pickup_hour']/24)\n",
    "    pickup_hour_cos = np.cos(2 * np.pi * features['pickup_hour']/24)\n",
    "\n",
    "    rho = norm_inputs['rho'][0]\n",
    "    theta = norm_inputs['theta'][0]\n",
    "    temp = norm_inputs['temperature (degC)'][0]\n",
    "\n",
    "    # Month, day, hour, location, weather\n",
    "    query_features = np.array([pickup_month_sin, pickup_month_cos, pickup_day_sin, pickup_day_cos, pickup_hour_sin, pickup_hour_cos, rho, theta, temp, features['wind'], features['precip'],  features['snowfall'], features['snowcover']])\n",
    "\n",
    "    # print('Query Inputs: ', query_features)\n",
    "\n",
    "    taxi_demand_scaler = joblib.load('taxi_demand_scaler.gz')\n",
    "    bike_demand_scaler = joblib.load('bike_demand_scaler.gz')\n",
    "    \n",
    "    # # # Get the prediction\n",
    "    X = tf.convert_to_tensor(query_features)\n",
    "    X = tf.cast(X, tf.float32)\n",
    "    prediction = model.predict(tf.reshape(X, (1,13)))\n",
    "    demand_scaled = [taxi_demand_scaler.inverse_transform(prediction[0][0].reshape(-1,1)), bike_demand_scaler.inverse_transform(prediction[0][1].reshape(-1,1))]\n",
    "\n",
    "    return np.array((demand_scaled[0][0][0], demand_scaled[1][0][0]))"
   ]
  },
  {
   "cell_type": "code",
   "execution_count": null,
   "metadata": {},
   "outputs": [],
   "source": [
    "model = joblib.load('mo_regressor.sav')\n",
    "\n",
    "features = {'start_lat': 40.64, 'start_lon': -74.08, 'year': 2021, 'pickup_month': 1, 'pickup_day': 1, 'pickup_hour': 0, \n",
    "'temperature (degC)': 4.33, 'precip': 0, 'wind': 0, 'snowfall': 0, 'snowcover': 0}\n",
    "\n",
    "result = query_model(features, model)\n",
    "print(result)"
   ]
  },
  {
   "cell_type": "markdown",
   "metadata": {},
   "source": [
    "# Simple Custom Models"
   ]
  },
  {
   "cell_type": "code",
   "execution_count": 13,
   "metadata": {},
   "outputs": [],
   "source": [
    "# https://stackoverflow.com/questions/44036971/multiple-outputs-in-keras\n",
    "inputs = tf.keras.layers.Input(shape=(x_train.shape[1],), name='input')\n",
    "x = tf.keras.layers.Dense(1024, 'tanh', kernel_initializer='glorot_uniform', name='1024_1')(inputs)\n",
    "x = tf.keras.layers.Dense(512,  kernel_initializer='glorot_uniform', name='512_1')(x)\n",
    "x = tf.keras.layers.BatchNormalization()(x)\n",
    "x = tf.keras.layers.Dense(256, 'tanh', kernel_initializer='glorot_uniform', name='256_1')(x)\n",
    "x = tf.keras.layers.Dense(128, 'tanh', kernel_initializer='glorot_uniform', name='128_1')(x)\n",
    "x = tf.keras.layers.Dense(256, 'tanh', kernel_initializer='glorot_uniform', name='256_2')(x)\n",
    "x = tf.keras.layers.BatchNormalization()(x)\n",
    "x = tf.keras.layers.Dense(128, 'tanh', kernel_initializer='glorot_uniform', name='128_2')(x)\n",
    "x = tf.keras.layers.Dense(128, 'tanh', kernel_initializer='glorot_uniform', name='128_3')(x)\n",
    "x = tf.keras.layers.Dense(64, 'tanh', kernel_initializer='glorot_uniform', name='64')(x)\n",
    "x = tf.keras.layers.BatchNormalization()(x)\n",
    "x = tf.keras.layers.Dense(32, 'tanh', kernel_initializer='glorot_uniform', name='32')(x)\n",
    "x = tf.keras.layers.Dense(16,'tanh',  kernel_initializer='glorot_uniform', name='16')(x)\n",
    "x = tf.keras.layers.BatchNormalization()(x)\n",
    "output1 = tf.keras.layers.Dense(1, 'sigmoid', name='taxi_demand')(x)\n",
    "output2 = tf.keras.layers.Dense(1, 'sigmoid', name='bike_demand')(x)\n",
    "\n",
    "model = tf.keras.Model(inputs=inputs, outputs=[output1, output2])"
   ]
  },
  {
   "cell_type": "code",
   "execution_count": 14,
   "metadata": {},
   "outputs": [
    {
     "name": "stdout",
     "output_type": "stream",
     "text": [
      "Model: \"model\"\n",
      "__________________________________________________________________________________________________\n",
      " Layer (type)                   Output Shape         Param #     Connected to                     \n",
      "==================================================================================================\n",
      " input (InputLayer)             [(None, 12)]         0           []                               \n",
      "                                                                                                  \n",
      " 1024_1 (Dense)                 (None, 1024)         13312       ['input[0][0]']                  \n",
      "                                                                                                  \n",
      " 512_1 (Dense)                  (None, 512)          524800      ['1024_1[0][0]']                 \n",
      "                                                                                                  \n",
      " batch_normalization (BatchNorm  (None, 512)         2048        ['512_1[0][0]']                  \n",
      " alization)                                                                                       \n",
      "                                                                                                  \n",
      " 256_1 (Dense)                  (None, 256)          131328      ['batch_normalization[0][0]']    \n",
      "                                                                                                  \n",
      " 128_1 (Dense)                  (None, 128)          32896       ['256_1[0][0]']                  \n",
      "                                                                                                  \n",
      " 256_2 (Dense)                  (None, 256)          33024       ['128_1[0][0]']                  \n",
      "                                                                                                  \n",
      " batch_normalization_1 (BatchNo  (None, 256)         1024        ['256_2[0][0]']                  \n",
      " rmalization)                                                                                     \n",
      "                                                                                                  \n",
      " 128_2 (Dense)                  (None, 128)          32896       ['batch_normalization_1[0][0]']  \n",
      "                                                                                                  \n",
      " 128_3 (Dense)                  (None, 128)          16512       ['128_2[0][0]']                  \n",
      "                                                                                                  \n",
      " 64 (Dense)                     (None, 64)           8256        ['128_3[0][0]']                  \n",
      "                                                                                                  \n",
      " batch_normalization_2 (BatchNo  (None, 64)          256         ['64[0][0]']                     \n",
      " rmalization)                                                                                     \n",
      "                                                                                                  \n",
      " 32 (Dense)                     (None, 32)           2080        ['batch_normalization_2[0][0]']  \n",
      "                                                                                                  \n",
      " 16 (Dense)                     (None, 16)           528         ['32[0][0]']                     \n",
      "                                                                                                  \n",
      " batch_normalization_3 (BatchNo  (None, 16)          64          ['16[0][0]']                     \n",
      " rmalization)                                                                                     \n",
      "                                                                                                  \n",
      " taxi_demand (Dense)            (None, 1)            17          ['batch_normalization_3[0][0]']  \n",
      "                                                                                                  \n",
      " bike_demand (Dense)            (None, 1)            17          ['batch_normalization_3[0][0]']  \n",
      "                                                                                                  \n",
      "==================================================================================================\n",
      "Total params: 799,058\n",
      "Trainable params: 797,362\n",
      "Non-trainable params: 1,696\n",
      "__________________________________________________________________________________________________\n"
     ]
    }
   ],
   "source": [
    "model.summary()"
   ]
  },
  {
   "cell_type": "code",
   "execution_count": 15,
   "metadata": {},
   "outputs": [],
   "source": [
    "loss_taxi_reg = tf.keras.losses.MeanAbsoluteError()#tf.keras.losses.MeanSquaredLogarithmicError()\n",
    "loss_bike_reg = tf.keras.losses.MeanAbsoluteError() #tf.keras.losses.MeanSquaredLogarithmicError()\n",
    "\n",
    "pred_error_taxi = tf.keras.metrics.MeanAbsoluteError(name='taxi')\n",
    "pred_error_bike = tf.keras.metrics.MeanAbsoluteError(name='bike')\n",
    "\n",
    "opt = tf.keras.optimizers.Adam(learning_rate = 0.1)"
   ]
  },
  {
   "cell_type": "code",
   "execution_count": 16,
   "metadata": {},
   "outputs": [],
   "source": [
    "model.compile(loss={'taxi_demand': loss_taxi_reg, 'bike_demand': loss_bike_reg}, optimizer=opt, metrics= ['mae']) #,"
   ]
  },
  {
   "cell_type": "code",
   "execution_count": 17,
   "metadata": {},
   "outputs": [],
   "source": [
    "reduce_lr = tf.keras.callbacks.ReduceLROnPlateau(monitor='val_loss', factor=0.2,\n",
    "                              patience=5, min_lr=0.001)"
   ]
  },
  {
   "cell_type": "code",
   "execution_count": 18,
   "metadata": {},
   "outputs": [
    {
     "name": "stderr",
     "output_type": "stream",
     "text": [
      "2022-10-28 14:41:04.181991: I tensorflow/core/grappler/optimizers/custom_graph_optimizer_registry.cc:114] Plugin optimizer for device_type GPU is enabled.\n",
      "2022-10-28 15:07:38.719838: I tensorflow/core/grappler/optimizers/custom_graph_optimizer_registry.cc:114] Plugin optimizer for device_type GPU is enabled.\n"
     ]
    },
    {
     "name": "stdout",
     "output_type": "stream",
     "text": [
      "32550/32550 - 1736s - loss: 0.0060 - taxi_demand_loss: 0.0028 - bike_demand_loss: 0.0032 - taxi_demand_mae: 0.0028 - bike_demand_mae: 0.0032 - val_loss: 0.0059 - val_taxi_demand_loss: 0.0028 - val_bike_demand_loss: 0.0031 - val_taxi_demand_mae: 0.0028 - val_bike_demand_mae: 0.0031 - lr: 0.1000 - 1736s/epoch - 53ms/step\n"
     ]
    }
   ],
   "source": [
    "EPOCHS = 1\n",
    "\n",
    "history = model.fit(x_train, {'taxi_demand': y1_train, 'bike_demand': y2_train}, verbose=2,callbacks=reduce_lr,validation_split=0.2, epochs=EPOCHS, batch_size=8)"
   ]
  },
  {
   "cell_type": "code",
   "execution_count": null,
   "metadata": {},
   "outputs": [],
   "source": [
    "history.history.keys()"
   ]
  },
  {
   "cell_type": "code",
   "execution_count": null,
   "metadata": {},
   "outputs": [],
   "source": [
    "_,_,_,test_taxi_mae, test_bike_mae = model.evaluate(x_test,{'taxi_demand': y1_test, 'bike_demand': y2_test})"
   ]
  },
  {
   "cell_type": "code",
   "execution_count": null,
   "metadata": {},
   "outputs": [],
   "source": [
    "from turtle import color\n",
    "\n",
    "\n",
    "plt.plot(history.history['taxi_demand_mae'], '-', label='taxi_train_mae')\n",
    "plt.plot(history.history['val_taxi_demand_mae'], 'r-.',label='taxi_val_mae')\n",
    "plt.axhline(y=test_taxi_mae, color='k', label='taxi_test_mae')\n",
    "plt.legend(loc='best')\n",
    "plt.xlabel('Epochs')\n",
    "plt.ylabel('Mean Absolute Error(mae)')\n",
    "plt.title('Normalized Taxi Demand Performance')"
   ]
  },
  {
   "cell_type": "code",
   "execution_count": null,
   "metadata": {},
   "outputs": [],
   "source": [
    "plt.fill_between(np.arange(0,500),history.history['taxi_demand_mae'], history.history['val_taxi_demand_mae'])\n",
    "plt.legend(['train_taxi_mae','val_taxi_mmae'],loc='best')"
   ]
  },
  {
   "cell_type": "code",
   "execution_count": null,
   "metadata": {},
   "outputs": [],
   "source": [
    "plt.plot(history.history['bike_demand_mae'], '-', label='taxi_train_mae')\n",
    "plt.plot(history.history['val_bike_demand_mae'], 'r-.',label='taxi_val_mae')\n",
    "plt.axhline(y=test_bike_mae, color='k', label='taxi_test_mae')\n",
    "plt.legend(loc='upper right')\n",
    "plt.xlabel('Epochs')\n",
    "plt.ylabel('Mean Absolute Error(mae)')\n",
    "plt.title('Normalized Bike Demand Performance')"
   ]
  }
 ],
 "metadata": {
  "kernelspec": {
   "display_name": "Python 3.8.13 ('mobility')",
   "language": "python",
   "name": "python3"
  },
  "language_info": {
   "codemirror_mode": {
    "name": "ipython",
    "version": 3
   },
   "file_extension": ".py",
   "mimetype": "text/x-python",
   "name": "python",
   "nbconvert_exporter": "python",
   "pygments_lexer": "ipython3",
   "version": "3.8.13"
  },
  "orig_nbformat": 4,
  "vscode": {
   "interpreter": {
    "hash": "a13a998b53916b4eada4543eea7e41336b9b0d9c7b61df3419d4765325c9e9f7"
   }
  }
 },
 "nbformat": 4,
 "nbformat_minor": 2
}
