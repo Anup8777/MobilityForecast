{
 "cells": [
  {
   "cell_type": "code",
   "execution_count": 1,
   "metadata": {},
   "outputs": [],
   "source": [
    "from IPython import display\n",
    "\n",
    "import glob\n",
    "import imageio\n",
    "import matplotlib.pyplot as plt\n",
    "import numpy as np\n",
    "# import PIL\n",
    "import tensorflow as tf\n",
    "import tensorflow_probability as tfp\n",
    "# import tensorflow.contrib as tf_contrib\n",
    "import time\n",
    "\n",
    "#imp\n",
    "tf.keras.backend.set_image_data_format('channels_last')"
   ]
  },
  {
   "cell_type": "code",
   "execution_count": 2,
   "metadata": {},
   "outputs": [],
   "source": [
    "### A simplified attention block\n",
    "def hw_flatten(x) :\n",
    "    # return tf.reshape(x, shape=[x.shape[0], -1, x.shape[-1]])\n",
    "    return tf.reshape(x, shape=(x.shape[0], -1, x.shape[-1]))\n",
    "\n",
    "def attention(x, channels=265):\n",
    "\n",
    "    f = tf.keras.layers.Conv2D(filters=1, kernel_size=1, strides=1, padding='same', use_bias=True)(x) # [bs, h, w, c']\n",
    "    g = tf.keras.layers.Conv2D(filters=1, kernel_size=1, strides=1, padding='same', use_bias=True)(x) # [bs, h, w, c']\n",
    "    h = tf.keras.layers.Conv2D(filters=1, kernel_size=1, strides=1, padding='same', use_bias=True)(x) # [bs, h, w, c]\n",
    "    # print('h', h.shape)\n",
    "    # N = h * w\n",
    "    # s = tf.linalg.matmul(hw_flatten(g), hw_flatten(f), transpose_b=True) # # [bs, N, N]\n",
    "    s = tf.matmul(g, f, transpose_b=True) # # [bs, N, N]\n",
    "    # s = tf.matmul(tf.keras.layers.Flatten()(g), tf.keras.layers.Flatten()(f), transpose_b=True) # # [bs, N, N]\n",
    "    # print('s', s.shape)\n",
    "    beta = tf.nn.softmax(s)  # attention map\n",
    "    # print('beta', beta.shape)\n",
    "\n",
    "    # o = tf.linalg.matmul(beta, hw_flatten(h)) # [bs, N, C]\n",
    "    o = tf.matmul(beta, h) # [bs, N, C]\n",
    "    # o = tf.linalg.matmul(beta, tf.keras.layers.Flatten()(h)) # [bs, N, C]\n",
    "    # print('o', o.shape)\n",
    "    # Unsure if this is correct, see documentation: https://www.tensorflow.org/api_docs/python/tf/compat/v1/get_variable#migrate-to-tf2\n",
    "    gamma = tf.compat.v1.get_variable(\"gamma\", [1], initializer=tf.constant_initializer(0.0))\n",
    "\n",
    "    # o = tf.reshape(o, shape=x.shape) # [bs, h, w, C]\n",
    "    o = tf.keras.layers.Conv2D(filters=channels, kernel_size=1, strides=1, padding='same', use_bias=True)(o)\n",
    "\n",
    "    x = gamma * o + x\n",
    "\n",
    "    return x\n",
    "\n",
    "class Sampling(tf.keras.layers.Layer):\n",
    "    \"\"\"Uses (z_mean, z_log_var) to sample z, the vector encoding a digit.\"\"\"\n",
    "\n",
    "    def call(self, inputs):\n",
    "        z_mean, z_log_var = inputs\n",
    "        batch = tf.shape(z_mean)[0]\n",
    "        dim = tf.shape(z_mean)[1]\n",
    "        epsilon = tf.keras.backend.random_normal(shape=(batch, dim))\n",
    "        return z_mean + tf.exp(0.5 * z_log_var) * epsilon # this formula is considered best practice\n"
   ]
  },
  {
   "cell_type": "code",
   "execution_count": 3,
   "metadata": {},
   "outputs": [],
   "source": [
    "def Conv3D_Block(inp_shape, conv_filters, batch_normalization, no_of_neurons):\n",
    "        '''\n",
    "        \n",
    "        inp_shape - tuple - (depth, no_of_bins, no_of_bins, channels) - eg. (6,16,16,1) - 6 hours of travel demand map of city divided into 16x16 grid.\n",
    "        conv_filters - list - [] - no. of filters for the convolutional block, len(conv_filters) determines the depth of the convolutional layers\n",
    "        batch_normalization - bool - set it to 'True' if you want batch_normalization in the model\n",
    "        no_of_neurons - list - [] - no of neurons in the dense layers - len(no_of_neurons) determines the depth of the fully connected layers.\n",
    "\n",
    "        '''\n",
    "        x = tf.keras.layers.Input(shape=inp_shape)\n",
    "        inp = x\n",
    "\n",
    "        for i in range(0,len(conv_filters)):\n",
    "                x = tf.keras.layers.ConvLSTM2D(filters=conv_filters[i], kernel_size=(3), strides=(2,2), padding=\"same\", return_sequences=True, activation=\"relu\", data_format='channels_last', )(x)\n",
    "                if batch_normalization:\n",
    "                        x = tf.keras.layers.BatchNormalization()(x)\n",
    "\n",
    "        # We will construct 4 `ConvLSTM2D` layers with batch normalization,\n",
    "        # followed by a `Conv3D` layer for the spatiotemporal outputs.\n",
    "\n",
    "        res1 = tf.keras.layers.Conv3D(filters=1, kernel_size=(1,1,1), padding=\"same\")(x)\n",
    "        res1 = tf.keras.layers.LeakyReLU(alpha=0.05)(res1)\n",
    "        res1 = tf.keras.layers.MaxPooling3D(pool_size=2, )(res1)\n",
    "\n",
    "        if batch_normalization:\n",
    "                res1 = tf.keras.layers.BatchNormalization()(res1)\n",
    "        \n",
    "        # attention\n",
    "        x = attention(res1, channels=265)\n",
    "        \n",
    "        # residual\n",
    "        x = tf.keras.layers.Add()([res1, x])\n",
    "\n",
    "        for i in range(0, len(no_of_neurons)):\n",
    "                x = tf.keras.layers.Dense(no_of_neurons[i],activation='relu')(x)\n",
    "                x = tf.keras.layers.LeakyReLU(alpha=0.05)(x)\n",
    "\n",
    "        # Next, we will build the complete model and compile it.\n",
    "        model = tf.keras.Model(inputs=inp, outputs=x)\n",
    "        return model"
   ]
  },
  {
   "cell_type": "code",
   "execution_count": 4,
   "metadata": {},
   "outputs": [],
   "source": [
    "def encoder_model(inp_shape, conv_filters, batch_normalization,  latent_dim, no_of_neurons):\n",
    "    \"\"\" \n",
    "    Adapted from Laurence Moroney's Coursera course on VAEs: https://www.coursera.org/lecture/generative-deep-learning-with-tensorflow/sampling-layer-and-encoder-G2mJr\n",
    "    \n",
    "    inp_shape - list of tuples - [(depth, no_of_bins, no_of_bins, channels), .., ...,] - eg. [(6,16,16,1), (), ..] - list of input dimensions of each st_maps.\n",
    "    conv_filters - list - [] - no. of filters for the convolutional block, len(conv_filters) determines the depth of the convolutional layers\n",
    "    batch_normalization - bool - set it to 'True' if you want batch_normalization in the model\n",
    "    latent_dim - int - dimension of latent space\n",
    "    no_of_neurons - list - [] - no of neurons in the dense layers - len(no_of_neurons) determines the depth of the fully connected layers.\n",
    "    \n",
    "    \"\"\"\n",
    "    maps = []\n",
    "    for i in range(0, len(inp_shape)):\n",
    "        maps.append(Conv3D_Block(inp_shape=inp_shape[i], conv_filters=conv_filters, batch_normalization=batch_normalization, no_of_neurons=no_of_neurons))\n",
    "        \n",
    "\n",
    "    x = tf.keras.layers.concatenate(list(map(lambda j:j.output, maps)), axis=-1)\n",
    "    \n",
    "    for i in range(0, len(no_of_neurons)):\n",
    "        x = tf.keras.layers.Dense(no_of_neurons[0],activation='relu')(x)\n",
    "        x = tf.keras.layers.LeakyReLU(alpha=0.05)(x)\n",
    "        \n",
    "    # x = tf.keras.layers.Dense(16, activation='relu')(combined)\n",
    "    # x = tf.keras.layers.Dense(32, activation='relu')(x)\n",
    "    # x = tf.keras.layers.Dense(64, activation='relu')(x)\n",
    "\n",
    "    x = tf.keras.layers.Flatten()(x)\n",
    "\n",
    "    z_mean = tf.keras.layers.Dense(latent_dim, name=\"z_mean\")(x)\n",
    "    z_log_var = tf.keras.layers.Dense(latent_dim, name=\"z_log_var\")(x)\n",
    "\n",
    "    z = Sampling()([z_mean, z_log_var])\n",
    "\n",
    "    encoder = tf.keras.Model(inputs=list(map(lambda j:j.input, maps)), outputs=[z_mean, z_log_var, z], name=\"encoder\")\n",
    "    \n",
    "    return encoder"
   ]
  },
  {
   "cell_type": "code",
   "execution_count": 5,
   "metadata": {},
   "outputs": [],
   "source": [
    "def generator_model(latent_dim, target_shape, up_sampling_filters, output_map_shape):\n",
    "    \n",
    "    latent_inputs = tf.keras.Input(shape=(latent_dim,))\n",
    "    x = tf.keras.layers.Dense(np.prod(target_shape), activation='relu')(latent_inputs)\n",
    "    x = tf.keras.layers.Reshape(target_shape=(target_shape[0],target_shape[1],target_shape[2]))(x)\n",
    "\n",
    "    for i in range(0, len(up_sampling_filters)):\n",
    "        x = tf.keras.layers.Conv2DTranspose(filters=up_sampling_filters[i], kernel_size=(3), strides=2, padding=\"same\", activation=\"relu\")(x)\n",
    "\n",
    "    x = tf.keras.layers.Conv2D(1, (3, 3), activation=\"sigmoid\", padding=\"same\")(x)\n",
    "    x = tf.keras.layers.Reshape(target_shape=output_map_shape)(x)\n",
    "    x = tf.keras.layers.Conv3DTranspose(filters=1, kernel_size=(3), padding=\"same\", activation=\"relu\")(x)\n",
    "    x = tf.keras.layers.LeakyReLU(alpha=0.05)(x)\n",
    "    \n",
    "    # x = tf.keras.layers.Conv2DTranspose(filters=16, kernel_size=(3), strides=2, padding=\"same\", activation=\"relu\")(x)\n",
    "    # x = tf.keras.layers.Conv2DTranspose(filters=8, kernel_size=(3), strides=2, padding=\"same\", activation=\"relu\")(x)\n",
    "    # x = tf.keras.layers.Conv2D(filters=1, kernel_size=1, strides=1)(x)\n",
    "    \n",
    "\n",
    "    #generator = tf.keras.Model(latent_inputs, outputs=[x_real, x_enc, x_fake], name=\"generator\")\n",
    "    generator = tf.keras.Model(latent_inputs, outputs=x, name=\"generator\")\n",
    "    return generator"
   ]
  },
  {
   "cell_type": "code",
   "execution_count": 6,
   "metadata": {},
   "outputs": [],
   "source": [
    "class CVAE(tf.keras.Model):\n",
    "    def __init__(self, encoder, generator, **kwargs):\n",
    "        super(CVAE, self).__init__(**kwargs)\n",
    "        self.encoder = encoder\n",
    "        self.generator = generator\n",
    "        self.total_loss_tracker = tf.keras.metrics.Mean(name=\"total_loss\")\n",
    "        self.reconstruction_loss_tracker = tf.keras.metrics.Mean(name=\"reconstruction_loss\")\n",
    "        self.kl_loss_tracker = tf.keras.metrics.Mean(name=\"kl_loss\")\n",
    "\n",
    "    @property\n",
    "    def metrics(self):\n",
    "        return[self.total_loss_tracker, self.reconstruction_loss_tracker, self.kl_loss_tracker]\n",
    "\n",
    "    def call(self, inputs):\n",
    "        z_mean, z_log_variance, z = self.encoder([inputs[0], inputs[1], inputs[2]])\n",
    "        reconstruction = self.generator(z)\n",
    "        return reconstruction\n",
    "\n",
    "\n",
    "    @tf.function\n",
    "    def train_step(self,data):\n",
    "        with tf.GradientTape() as tape:\n",
    "            z_mean, z_log_variance, z = self.encoder([data[0], data[1], data[2]])\n",
    "            reconstruction = self.generator(z)\n",
    "            reconstruction_loss = tf.reduce_mean(tf.reduce_sum(tf.keras.losses.binary_crossentropy(data[0], reconstruction), axis=(1,2)))\n",
    "            kl_loss = -0.5 * (1 + z_log_variance - tf.square(z_mean) - tf.exp(z_log_variance))\n",
    "            kl_loss = tf.reduce_mean(tf.reduce_sum(kl_loss, axis=1))\n",
    "            total_loss =reconstruction_loss + kl_loss\n",
    "        grads = tape.gradient(total_loss, self.trainable_weights)\n",
    "        self.optimizer.apply_gradients(zip(grads, self.trainable_weights))\n",
    "        self.total_loss_tracker.update_state(total_loss)\n",
    "        self.reconstruction_loss_tracker.update_state(reconstruction_loss)\n",
    "        self.kl_loss_tracker.update_state(kl_loss)\n",
    "\n",
    "        return { \n",
    "            \"loss\":self.total_loss_tracker.result(),\n",
    "            \"reconstruction_loss\": self.reconstruction_loss_tracker.result(),\n",
    "            \"kl_loss\": self.kl_loss_tracker.result()\n",
    "        }\n"
   ]
  },
  {
   "cell_type": "markdown",
   "metadata": {},
   "source": [
    "Note, it's common practice to avoid using batch normalization when training VAEs, since the additional stochasticity due to using mini-batches may aggravate instability on top of the stochasticity from sampling."
   ]
  },
  {
   "cell_type": "code",
   "execution_count": 7,
   "metadata": {},
   "outputs": [],
   "source": [
    "latent_dim = 4\n",
    "batch_size = 1 # Paper: 32\n",
    "channel = 1\n",
    "taxi_height = 16\n",
    "taxi_width = 16\n",
    "bike_height = 16\n",
    "bike_width = 16\n",
    "weather_height = 16\n",
    "weather_width = 16\n",
    "depth = 6\n",
    "inp_shape = [(depth, taxi_height, taxi_width, channel), (depth, bike_height, bike_width, channel), (depth, weather_height, bike_width, channel)]\n",
    "\n",
    "no_of_conv_filters = [16, 32, 64]\n",
    "\n",
    "no_of_neurons_mlp = [16, 32, 64]\n",
    "\n",
    "target_shape = [2, 2, 64,]\n",
    "\n",
    "encoder = encoder_model(inp_shape, no_of_conv_filters, True,  latent_dim, no_of_neurons_mlp)\n",
    "\n",
    "generator = generator_model(latent_dim, target_shape , no_of_conv_filters, (1,taxi_height,taxi_width,channel))\n",
    "vae = CVAE(encoder, generator)\n",
    "vae.compile(optimizer=tf.keras.optimizers.Adam(learning_rate=0.01))"
   ]
  },
  {
   "cell_type": "code",
   "execution_count": 8,
   "metadata": {},
   "outputs": [],
   "source": [
    "taxi_data = tf.random.normal(shape = (batch_size,depth, taxi_height, taxi_width, channel))\n",
    "bike_data = tf.random.normal(shape = (batch_size,depth, bike_height, bike_width, channel))\n",
    "weather_data = tf.random.normal(shape = (batch_size,depth, bike_height, bike_width, channel))"
   ]
  },
  {
   "cell_type": "code",
   "execution_count": 9,
   "metadata": {},
   "outputs": [],
   "source": [
    "data = tf.stack([taxi_data, bike_data, weather_data], axis = 0)"
   ]
  },
  {
   "cell_type": "code",
   "execution_count": 10,
   "metadata": {},
   "outputs": [
    {
     "name": "stdout",
     "output_type": "stream",
     "text": [
      "1/1 [==============================] - 17s 17s/step - loss: 15.3869 - reconstruction_loss: 15.3869 - kl_loss: 8.1658e-06\n"
     ]
    },
    {
     "data": {
      "text/plain": [
       "<keras.callbacks.History at 0x1fe4e31aec8>"
      ]
     },
     "execution_count": 10,
     "metadata": {},
     "output_type": "execute_result"
    }
   ],
   "source": [
    "vae.fit(data, epochs=1)"
   ]
  },
  {
   "cell_type": "code",
   "execution_count": 11,
   "metadata": {},
   "outputs": [
    {
     "name": "stdout",
     "output_type": "stream",
     "text": [
      "TensorFlow: 2.10.0\n",
      "WARNING:tensorflow:From c:\\Users\\20215176\\Anaconda3\\envs\\mobilityforecast\\lib\\site-packages\\tensorflow\\python\\profiler\\internal\\flops_registry.py:239: tensor_shape_from_node_def_name (from tensorflow.python.framework.graph_util_impl) is deprecated and will be removed in a future version.\n",
      "Instructions for updating:\n",
      "Use `tf.compat.v1.graph_util.tensor_shape_from_node_def_name`\n",
      "Flops: 9,245,810\n"
     ]
    }
   ],
   "source": [
    "import tensorflow as tf\n",
    "from tensorflow.python.profiler.model_analyzer import profile\n",
    "from tensorflow.python.profiler.option_builder import ProfileOptionBuilder\n",
    "print('TensorFlow:', tf.__version__)\n",
    "\n",
    "\n",
    "\n",
    "forward_pass = tf.function(\n",
    "    vae.call,\n",
    "    input_signature=[tf.TensorSpec(shape=data.shape)])\n",
    "\n",
    "graph_info = profile(forward_pass.get_concrete_function().graph,\n",
    "                        options=ProfileOptionBuilder.float_operation())\n",
    "\n",
    "# The //2 is necessary since `profile` counts multiply and accumulate\n",
    "# as two flops, here we report the total number of multiply accumulate ops\n",
    "flops = graph_info.total_float_ops // 2\n",
    "print('Flops: {:,}'.format(flops))"
   ]
  },
  {
   "cell_type": "code",
   "execution_count": 12,
   "metadata": {},
   "outputs": [],
   "source": [
    "vae.build(data.shape)"
   ]
  },
  {
   "cell_type": "code",
   "execution_count": 13,
   "metadata": {},
   "outputs": [],
   "source": [
    "# implement callbacks, early stopping"
   ]
  },
  {
   "cell_type": "code",
   "execution_count": 14,
   "metadata": {},
   "outputs": [
    {
     "data": {
      "text/plain": [
       "27737430"
      ]
     },
     "execution_count": 14,
     "metadata": {},
     "output_type": "execute_result"
    }
   ],
   "source": [
    "9245810 * 3\n"
   ]
  },
  {
   "cell_type": "code",
   "execution_count": 15,
   "metadata": {},
   "outputs": [],
   "source": [
    "import visualkeras\n",
    "from PIL import ImageFont"
   ]
  },
  {
   "cell_type": "code",
   "execution_count": 16,
   "metadata": {},
   "outputs": [],
   "source": [
    "\n",
    "model = visualkeras.layered_view(generator).show() # display using your system viewer\n",
    "# visualkeras.layered_view(model, to_file='output.png') # write to disk\n",
    "# visualkeras.layered_view(model, to_file='output.png').show() # write and show"
   ]
  },
  {
   "cell_type": "code",
   "execution_count": 17,
   "metadata": {},
   "outputs": [
    {
     "data": {
      "image/png": "[encoded data removed]",
      "text/plain": [
       "<PIL.Image.Image image mode=RGBA size=323x201>"
      ]
     },
     "execution_count": 17,
     "metadata": {},
     "output_type": "execute_result"
    }
   ],
   "source": [
    "font = ImageFont.truetype(\"arial.ttf\", 15)  # using comic sans is strictly prohibited!\n",
    "visualkeras.layered_view(generator, legend=True, font=font)  # font is optional!"
   ]
  },
  {
   "cell_type": "code",
   "execution_count": 18,
   "metadata": {},
   "outputs": [
    {
     "data": {
      "image/png": "[encoded data removed]",
      "text/plain": [
       "<PIL.Image.Image image mode=RGBA size=2856x117>"
      ]
     },
     "execution_count": 18,
     "metadata": {},
     "output_type": "execute_result"
    }
   ],
   "source": [
    "font = ImageFont.truetype(\"arial.ttf\", 15)  # using comic sans is strictly prohibited!\n",
    "visualkeras.layered_view(encoder, legend=True, font=font) "
   ]
  },
  {
   "cell_type": "code",
   "execution_count": 20,
   "metadata": {},
   "outputs": [
    {
     "name": "stdout",
     "output_type": "stream",
     "text": [
      "WARNING:tensorflow:Compiled the loaded model, but the compiled metrics have yet to be built. `model.compile_metrics` will be empty until you train or evaluate the model.\n"
     ]
    },
    {
     "name": "stderr",
     "output_type": "stream",
     "text": [
      "WARNING:absl:Found untraced functions such as _jit_compiled_convolution_op, _jit_compiled_convolution_op, _jit_compiled_convolution_op, _jit_compiled_convolution_op, _jit_compiled_convolution_op while saving (showing 5 of 15). These functions will not be directly callable after loading.\n"
     ]
    },
    {
     "name": "stdout",
     "output_type": "stream",
     "text": [
      "INFO:tensorflow:Assets written to: saved_model/encoder\\assets\n"
     ]
    },
    {
     "name": "stderr",
     "output_type": "stream",
     "text": [
      "INFO:tensorflow:Assets written to: saved_model/encoder\\assets\n"
     ]
    }
   ],
   "source": [
    "encoder.save('saved_model/encoder')"
   ]
  },
  {
   "cell_type": "code",
   "execution_count": null,
   "metadata": {},
   "outputs": [],
   "source": []
  }
 ],
 "metadata": {
  "kernelspec": {
   "display_name": "Python 3.7.13 ('mobilityforecast')",
   "language": "python",
   "name": "python3"
  },
  "language_info": {
   "codemirror_mode": {
    "name": "ipython",
    "version": 3
   },
   "file_extension": ".py",
   "mimetype": "text/x-python",
   "name": "python",
   "nbconvert_exporter": "python",
   "pygments_lexer": "ipython3",
   "version": "3.7.13"
  },
  "orig_nbformat": 4,
  "vscode": {
   "interpreter": {
    "hash": "a489ebabc6b1c3c996df92d9378f45c983839505199bbf18af484bb22de14d32"
   }
  }
 },
 "nbformat": 4,
 "nbformat_minor": 2
}
